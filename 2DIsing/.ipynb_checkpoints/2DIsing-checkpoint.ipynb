{
 "cells": [
  {
   "cell_type": "markdown",
   "metadata": {},
   "source": [
    "# 2DIsing MC\n",
    "\n",
    "Constructing a **spins** type."
   ]
  },
  {
   "cell_type": "code",
   "execution_count": 56,
   "metadata": {},
   "outputs": [
    {
     "data": {
      "text/plain": [
       "spins"
      ]
     },
     "execution_count": 56,
     "metadata": {},
     "output_type": "execute_result"
    }
   ],
   "source": [
    "\"\"\"\n",
    "Represent a state.\n",
    "\n",
    "fields:  T, J, steps, dimension, spin\n",
    "\"\"\"\n",
    "mutable struct spins\n",
    "    T\n",
    "    J\n",
    "    steps::Int64\n",
    "    dimension::Int64\n",
    "    spin::Array{Int64,2}\n",
    "    function spins(T, J, steps::Int64 = 100000, dimension::Int64 = 8)\n",
    "        spin = ones(Int64, dimension, dimension)\n",
    "        new(T, J, steps, dimension, spin)\n",
    "    end\n",
    "end"
   ]
  },
  {
   "cell_type": "code",
   "execution_count": 2,
   "metadata": {},
   "outputs": [
    {
     "data": {
      "text/plain": [
       "10"
      ]
     },
     "execution_count": 2,
     "metadata": {},
     "output_type": "execute_result"
    }
   ],
   "source": [
    "a = [1 2\n",
    "3 4]\n",
    "sum(a)"
   ]
  },
  {
   "cell_type": "markdown",
   "metadata": {},
   "source": [
    "Calculate energy of a state:"
   ]
  },
  {
   "cell_type": "code",
   "execution_count": 3,
   "metadata": {},
   "outputs": [
    {
     "data": {
      "text/plain": [
       "Energy_Diff"
      ]
     },
     "execution_count": 3,
     "metadata": {},
     "output_type": "execute_result"
    }
   ],
   "source": [
    "\"\"\"\n",
    "Calculate the energy difference after flipping one spin.\n",
    "\n",
    "Parameter:\n",
    "conf::spins : Input the state\n",
    "index::Tuple : An Tuple of index of the flipped spin.\n",
    "\"\"\"\n",
    "function Energy_Diff(conf::spins, index::Tuple)\n",
    "    N = conf.dimension   \n",
    "    S = conf.spin\n",
    "    m = index[1]  \n",
    "    n = index[2]\n",
    "    @assert(m<=N && m>=1 && n<=N && n>=1, \"The Index of flipped spin should be within range\")\n",
    "    ΔE = -conf.J * 2 * S[m, n] *\n",
    "                 (S[mod1(m - 1, N), n] + S[mod1(m + 1, N), n] +\n",
    "                  S[m, mod1(n - 1, N)] + S[m, mod1(n + 1, N)])\n",
    "    return ΔE\n",
    "end"
   ]
  },
  {
   "cell_type": "markdown",
   "metadata": {},
   "source": [
    "Select spin indexs to flip"
   ]
  },
  {
   "cell_type": "code",
   "execution_count": 4,
   "metadata": {},
   "outputs": [
    {
     "data": {
      "text/plain": [
       "flip_index"
      ]
     },
     "execution_count": 4,
     "metadata": {},
     "output_type": "execute_result"
    }
   ],
   "source": [
    "\"\"\"\n",
    "Choose a spin to flip\n",
    "\n",
    "Parameter:\n",
    "conf::spins : the system\n",
    "\n",
    "Return:\n",
    "A tuple of index of the spin to flip\n",
    "\"\"\"\n",
    "function flip_index(conf::spins)\n",
    "   (rand(1:conf.dimension), rand(1:conf.dimension))\n",
    "end    "
   ]
  },
  {
   "cell_type": "markdown",
   "metadata": {},
   "source": [
    "flipping a spin"
   ]
  },
  {
   "cell_type": "code",
   "execution_count": 5,
   "metadata": {},
   "outputs": [
    {
     "data": {
      "text/plain": [
       "flip"
      ]
     },
     "execution_count": 5,
     "metadata": {},
     "output_type": "execute_result"
    }
   ],
   "source": [
    "\"\"\"\n",
    "Function to flip a spin\n",
    "\n",
    "Parameter:\n",
    "conf::spins : current configuration\n",
    "index::Tuple : indexs of the flipped spin\n",
    "\n",
    "Return:\n",
    "new_config::spins : the new configuration\n",
    "\"\"\"\n",
    "function flip(conf::spins, index::Tuple)\n",
    "    conf.spin[index[1], index[2]] = -1 * conf.spin[index[1], index[2]]\n",
    "    return conf\n",
    "end"
   ]
  },
  {
   "cell_type": "markdown",
   "metadata": {},
   "source": [
    "Calculating the energy of the current state:"
   ]
  },
  {
   "cell_type": "code",
   "execution_count": 6,
   "metadata": {},
   "outputs": [
    {
     "data": {
      "text/plain": [
       "Energy"
      ]
     },
     "execution_count": 6,
     "metadata": {},
     "output_type": "execute_result"
    }
   ],
   "source": [
    "\"\"\"\n",
    "Calculating the energy of the current state\n",
    "\n",
    "Parameter:\n",
    "conf::spins : the current state\n",
    "\n",
    "Return:\n",
    "Energy::Float64 : energy of the current state\n",
    "\"\"\"\n",
    "function Energy(conf::spins)\n",
    "    S = conf.spin\n",
    "    N = conf.dimension\n",
    "    E0 = 0\n",
    "    for i = 1:N\n",
    "        for j = 1:N\n",
    "            E0 = E0 + 0.5 * conf.J * S[i, j] *\n",
    "                     (S[mod1(i - 1, N), j] + S[mod1(i + 1, N), j] +\n",
    "                      S[i, mod1(j - 1, N)] + S[i, mod1(j + 1, N)])\n",
    "        end\n",
    "    end\n",
    "    return E0\n",
    "end"
   ]
  },
  {
   "cell_type": "code",
   "execution_count": 7,
   "metadata": {},
   "outputs": [
    {
     "data": {
      "text/plain": [
       "8×8 Array{Int64,2}:\n",
       " -1  1  1  1  1  1  1  1\n",
       "  1  1  1  1  1  1  1  1\n",
       "  1  1  1  1  1  1  1  1\n",
       "  1  1  1  1  1  1  1  1\n",
       "  1  1  1  1  1  1  1  1\n",
       "  1  1  1  1  1  1  1  1\n",
       "  1  1  1  1  1  1  1  1\n",
       "  1  1  1  1  1  1  1  1"
      ]
     },
     "execution_count": 7,
     "metadata": {},
     "output_type": "execute_result"
    }
   ],
   "source": [
    "tryout = spins(2.0,1.0)\n",
    "flip(tryout,(1,1))\n",
    "tryout.spin"
   ]
  },
  {
   "cell_type": "markdown",
   "metadata": {},
   "source": [
    "Define evolution condition evol_cond()"
   ]
  },
  {
   "cell_type": "code",
   "execution_count": 8,
   "metadata": {},
   "outputs": [
    {
     "data": {
      "text/plain": [
       "evol_cond"
      ]
     },
     "execution_count": 8,
     "metadata": {},
     "output_type": "execute_result"
    }
   ],
   "source": [
    "\"\"\"\n",
    "Deciding whether to flip a chosen spin\n",
    "\n",
    "Parameter:\n",
    "conf::spins : The current state.\n",
    "index::Tuple : A tuple of spin index to flip.\n",
    "\n",
    "Return:\n",
    "true of false. true means to flip false means not to\n",
    "\"\"\"\n",
    "function evol_cond(conf::spins, index::Tuple)\n",
    "    #index = flip_index(conf.dimension)\n",
    "    ΔE = Energy_Diff(conf, index)\n",
    "    \n",
    "    p = exp(-ΔE / conf.T) / (1 + exp(-ΔE / conf.T))\n",
    "    r = rand()\n",
    "    if r < p\n",
    "        return false\n",
    "    else\n",
    "        return true\n",
    "    end\n",
    "end"
   ]
  },
  {
   "cell_type": "code",
   "execution_count": 9,
   "metadata": {},
   "outputs": [
    {
     "data": {
      "text/plain": [
       "128.0"
      ]
     },
     "execution_count": 9,
     "metadata": {},
     "output_type": "execute_result"
    }
   ],
   "source": [
    "Energy(spins(2, 1))"
   ]
  },
  {
   "cell_type": "code",
   "execution_count": 10,
   "metadata": {},
   "outputs": [],
   "source": [
    "function Base.iterate(conf::spins)\n",
    "    index = flip_index(conf.dimension)\n",
    "    \n",
    "    if evol_cond(conf, index)\n",
    "        return (conf, 1)\n",
    "    else\n",
    "        return (flip(conf, index), 1)\n",
    "    end\n",
    "end"
   ]
  },
  {
   "cell_type": "code",
   "execution_count": 11,
   "metadata": {},
   "outputs": [],
   "source": [
    "function Base.iterate(conf::spins, state)\n",
    "    index = flip_index(conf.dimension)\n",
    "    \n",
    "    state > conf.steps && return nothing\n",
    "    \n",
    "    if evol_cond(conf, index)\n",
    "        return (conf, state + 1)\n",
    "    else\n",
    "        return (flip(conf, index), state + 1)\n",
    "    end\n",
    "end"
   ]
  },
  {
   "cell_type": "code",
   "execution_count": 12,
   "metadata": {},
   "outputs": [],
   "source": [
    "using Plots"
   ]
  },
  {
   "cell_type": "markdown",
   "metadata": {},
   "source": [
    "Calculate the energy of the Macrostate\n",
    "Alternative approach: define an evolution() of a configuration"
   ]
  },
  {
   "cell_type": "code",
   "execution_count": 40,
   "metadata": {},
   "outputs": [],
   "source": [
    "struct macrostate\n",
    "    energy_site::Float64\n",
    "    polar_site::Float64\n",
    "    function macrostate(conf::spins, cutoff::Int64)\n",
    "        energy_site = 0\n",
    "        polar_site = 0\n",
    "        for i in 1:conf.steps\n",
    "            index = flip_index(conf)\n",
    "            if evol_cond(conf, index)\n",
    "                flip(conf, index)\n",
    "            end\n",
    "            \n",
    "            i < cutoff && continue\n",
    "            \n",
    "            energy_site += Energy(conf) / conf.dimension^2\n",
    "            polar_site += sum(conf.spin) / conf.dimension^2\n",
    "        end\n",
    "        energy_site = energy_site / (conf.steps - cutoff)\n",
    "        polar_site = polar_site / (conf.steps - cutoff)\n",
    "        \n",
    "        new(energy_site, polar_site)\n",
    "    end    \n",
    "end"
   ]
  },
  {
   "cell_type": "code",
   "execution_count": 55,
   "metadata": {},
   "outputs": [
    {
     "data": {
      "text/plain": [
       "2.0004"
      ]
     },
     "execution_count": 55,
     "metadata": {},
     "output_type": "execute_result"
    }
   ],
   "source": [
    "macrostate(spins(0.1,1),5000).energy_site"
   ]
  },
  {
   "cell_type": "code",
   "execution_count": 57,
   "metadata": {},
   "outputs": [
    {
     "data": {
      "image/svg+xml": [
       "<?xml version=\"1.0\" encoding=\"utf-8\"?>\n",
       "<svg xmlns=\"http://www.w3.org/2000/svg\" xmlns:xlink=\"http://www.w3.org/1999/xlink\" width=\"600\" height=\"400\" viewBox=\"0 0 2400 1600\">\n",
       "<defs>\n",
       "  <clipPath id=\"clip890\">\n",
       "    <rect x=\"0\" y=\"0\" width=\"2400\" height=\"1600\"/>\n",
       "  </clipPath>\n",
       "</defs>\n",
       "<path clip-path=\"url(#clip890)\" d=\"\n",
       "M0 1600 L2400 1600 L2400 0 L0 0  Z\n",
       "  \" fill=\"#ffffff\" fill-rule=\"evenodd\" fill-opacity=\"1\"/>\n",
       "<defs>\n",
       "  <clipPath id=\"clip891\">\n",
       "    <rect x=\"480\" y=\"0\" width=\"1681\" height=\"1600\"/>\n",
       "  </clipPath>\n",
       "</defs>\n",
       "<path clip-path=\"url(#clip890)\" d=\"\n",
       "M146.853 1486.45 L2352.76 1486.45 L2352.76 47.2441 L146.853 47.2441  Z\n",
       "  \" fill=\"#ffffff\" fill-rule=\"evenodd\" fill-opacity=\"1\"/>\n",
       "<defs>\n",
       "  <clipPath id=\"clip892\">\n",
       "    <rect x=\"146\" y=\"47\" width=\"2207\" height=\"1440\"/>\n",
       "  </clipPath>\n",
       "</defs>\n",
       "<polyline clip-path=\"url(#clip892)\" style=\"stroke:#000000; stroke-width:2; stroke-opacity:0.1; fill:none\" points=\"\n",
       "  207.201,1486.45 207.201,47.2441 \n",
       "  \"/>\n",
       "<polyline clip-path=\"url(#clip892)\" style=\"stroke:#000000; stroke-width:2; stroke-opacity:0.1; fill:none\" points=\"\n",
       "  727.982,1486.45 727.982,47.2441 \n",
       "  \"/>\n",
       "<polyline clip-path=\"url(#clip892)\" style=\"stroke:#000000; stroke-width:2; stroke-opacity:0.1; fill:none\" points=\"\n",
       "  1248.76,1486.45 1248.76,47.2441 \n",
       "  \"/>\n",
       "<polyline clip-path=\"url(#clip892)\" style=\"stroke:#000000; stroke-width:2; stroke-opacity:0.1; fill:none\" points=\"\n",
       "  1769.54,1486.45 1769.54,47.2441 \n",
       "  \"/>\n",
       "<polyline clip-path=\"url(#clip892)\" style=\"stroke:#000000; stroke-width:2; stroke-opacity:0.1; fill:none\" points=\"\n",
       "  2290.32,1486.45 2290.32,47.2441 \n",
       "  \"/>\n",
       "<polyline clip-path=\"url(#clip892)\" style=\"stroke:#000000; stroke-width:2; stroke-opacity:0.1; fill:none\" points=\"\n",
       "  146.853,1219.05 2352.76,1219.05 \n",
       "  \"/>\n",
       "<polyline clip-path=\"url(#clip892)\" style=\"stroke:#000000; stroke-width:2; stroke-opacity:0.1; fill:none\" points=\"\n",
       "  146.853,842.033 2352.76,842.033 \n",
       "  \"/>\n",
       "<polyline clip-path=\"url(#clip892)\" style=\"stroke:#000000; stroke-width:2; stroke-opacity:0.1; fill:none\" points=\"\n",
       "  146.853,465.012 2352.76,465.012 \n",
       "  \"/>\n",
       "<polyline clip-path=\"url(#clip892)\" style=\"stroke:#000000; stroke-width:2; stroke-opacity:0.1; fill:none\" points=\"\n",
       "  146.853,87.9922 2352.76,87.9922 \n",
       "  \"/>\n",
       "<polyline clip-path=\"url(#clip890)\" style=\"stroke:#000000; stroke-width:4; stroke-opacity:1; fill:none\" points=\"\n",
       "  146.853,1486.45 2352.76,1486.45 \n",
       "  \"/>\n",
       "<polyline clip-path=\"url(#clip890)\" style=\"stroke:#000000; stroke-width:4; stroke-opacity:1; fill:none\" points=\"\n",
       "  146.853,1486.45 146.853,47.2441 \n",
       "  \"/>\n",
       "<polyline clip-path=\"url(#clip890)\" style=\"stroke:#000000; stroke-width:4; stroke-opacity:1; fill:none\" points=\"\n",
       "  207.201,1486.45 207.201,1469.18 \n",
       "  \"/>\n",
       "<polyline clip-path=\"url(#clip890)\" style=\"stroke:#000000; stroke-width:4; stroke-opacity:1; fill:none\" points=\"\n",
       "  727.982,1486.45 727.982,1469.18 \n",
       "  \"/>\n",
       "<polyline clip-path=\"url(#clip890)\" style=\"stroke:#000000; stroke-width:4; stroke-opacity:1; fill:none\" points=\"\n",
       "  1248.76,1486.45 1248.76,1469.18 \n",
       "  \"/>\n",
       "<polyline clip-path=\"url(#clip890)\" style=\"stroke:#000000; stroke-width:4; stroke-opacity:1; fill:none\" points=\"\n",
       "  1769.54,1486.45 1769.54,1469.18 \n",
       "  \"/>\n",
       "<polyline clip-path=\"url(#clip890)\" style=\"stroke:#000000; stroke-width:4; stroke-opacity:1; fill:none\" points=\"\n",
       "  2290.32,1486.45 2290.32,1469.18 \n",
       "  \"/>\n",
       "<polyline clip-path=\"url(#clip890)\" style=\"stroke:#000000; stroke-width:4; stroke-opacity:1; fill:none\" points=\"\n",
       "  146.853,1219.05 173.324,1219.05 \n",
       "  \"/>\n",
       "<polyline clip-path=\"url(#clip890)\" style=\"stroke:#000000; stroke-width:4; stroke-opacity:1; fill:none\" points=\"\n",
       "  146.853,842.033 173.324,842.033 \n",
       "  \"/>\n",
       "<polyline clip-path=\"url(#clip890)\" style=\"stroke:#000000; stroke-width:4; stroke-opacity:1; fill:none\" points=\"\n",
       "  146.853,465.012 173.324,465.012 \n",
       "  \"/>\n",
       "<polyline clip-path=\"url(#clip890)\" style=\"stroke:#000000; stroke-width:4; stroke-opacity:1; fill:none\" points=\"\n",
       "  146.853,87.9922 173.324,87.9922 \n",
       "  \"/>\n",
       "<path clip-path=\"url(#clip890)\" d=\"M 0 0 M188.717 1508.44 Q185.106 1508.44 183.278 1512 Q181.472 1515.55 181.472 1522.67 Q181.472 1529.78 183.278 1533.35 Q185.106 1536.89 188.717 1536.89 Q192.352 1536.89 194.157 1533.35 Q195.986 1529.78 195.986 1522.67 Q195.986 1515.55 194.157 1512 Q192.352 1508.44 188.717 1508.44 M188.717 1504.73 Q194.527 1504.73 197.583 1509.34 Q200.662 1513.92 200.662 1522.67 Q200.662 1531.4 197.583 1536.01 Q194.527 1540.59 188.717 1540.59 Q182.907 1540.59 179.828 1536.01 Q176.773 1531.4 176.773 1522.67 Q176.773 1513.92 179.828 1509.34 Q182.907 1504.73 188.717 1504.73 Z\" fill=\"#000000\" fill-rule=\"evenodd\" fill-opacity=\"1\" /><path clip-path=\"url(#clip890)\" d=\"M 0 0 M205.731 1534.04 L210.615 1534.04 L210.615 1539.92 L205.731 1539.92 L205.731 1534.04 Z\" fill=\"#000000\" fill-rule=\"evenodd\" fill-opacity=\"1\" /><path clip-path=\"url(#clip890)\" d=\"M 0 0 M225.685 1508.44 Q222.074 1508.44 220.245 1512 Q218.439 1515.55 218.439 1522.67 Q218.439 1529.78 220.245 1533.35 Q222.074 1536.89 225.685 1536.89 Q229.319 1536.89 231.124 1533.35 Q232.953 1529.78 232.953 1522.67 Q232.953 1515.55 231.124 1512 Q229.319 1508.44 225.685 1508.44 M225.685 1504.73 Q231.495 1504.73 234.55 1509.34 Q237.629 1513.92 237.629 1522.67 Q237.629 1531.4 234.55 1536.01 Q231.495 1540.59 225.685 1540.59 Q219.875 1540.59 216.796 1536.01 Q213.74 1531.4 213.74 1522.67 Q213.74 1513.92 216.796 1509.34 Q219.875 1504.73 225.685 1504.73 Z\" fill=\"#000000\" fill-rule=\"evenodd\" fill-opacity=\"1\" /><path clip-path=\"url(#clip890)\" d=\"M 0 0 M704.649 1535.98 L720.968 1535.98 L720.968 1539.92 L699.024 1539.92 L699.024 1535.98 Q701.686 1533.23 706.269 1528.6 Q710.876 1523.95 712.056 1522.61 Q714.301 1520.08 715.181 1518.35 Q716.084 1516.59 716.084 1514.9 Q716.084 1512.14 714.139 1510.41 Q712.218 1508.67 709.116 1508.67 Q706.917 1508.67 704.464 1509.43 Q702.033 1510.2 699.255 1511.75 L699.255 1507.03 Q702.079 1505.89 704.533 1505.31 Q706.987 1504.73 709.024 1504.73 Q714.394 1504.73 717.588 1507.42 Q720.783 1510.11 720.783 1514.6 Q720.783 1516.73 719.973 1518.65 Q719.186 1520.54 717.079 1523.14 Q716.501 1523.81 713.399 1527.03 Q710.297 1530.22 704.649 1535.98 Z\" fill=\"#000000\" fill-rule=\"evenodd\" fill-opacity=\"1\" /><path clip-path=\"url(#clip890)\" d=\"M 0 0 M726.037 1534.04 L730.922 1534.04 L730.922 1539.92 L726.037 1539.92 L726.037 1534.04 Z\" fill=\"#000000\" fill-rule=\"evenodd\" fill-opacity=\"1\" /><path clip-path=\"url(#clip890)\" d=\"M 0 0 M736.037 1505.36 L754.394 1505.36 L754.394 1509.3 L740.32 1509.3 L740.32 1517.77 Q741.338 1517.42 742.357 1517.26 Q743.375 1517.07 744.394 1517.07 Q750.181 1517.07 753.56 1520.24 Q756.94 1523.42 756.94 1528.83 Q756.94 1534.41 753.468 1537.51 Q749.996 1540.59 743.676 1540.59 Q741.5 1540.59 739.232 1540.22 Q736.987 1539.85 734.579 1539.11 L734.579 1534.41 Q736.662 1535.54 738.885 1536.1 Q741.107 1536.66 743.584 1536.66 Q747.588 1536.66 749.926 1534.55 Q752.264 1532.44 752.264 1528.83 Q752.264 1525.22 749.926 1523.11 Q747.588 1521.01 743.584 1521.01 Q741.709 1521.01 739.834 1521.42 Q737.982 1521.84 736.037 1522.72 L736.037 1505.36 Z\" fill=\"#000000\" fill-rule=\"evenodd\" fill-opacity=\"1\" /><path clip-path=\"url(#clip890)\" d=\"M 0 0 M1220.56 1505.36 L1238.91 1505.36 L1238.91 1509.3 L1224.84 1509.3 L1224.84 1517.77 Q1225.86 1517.42 1226.88 1517.26 Q1227.89 1517.07 1228.91 1517.07 Q1234.7 1517.07 1238.08 1520.24 Q1241.46 1523.42 1241.46 1528.83 Q1241.46 1534.41 1237.99 1537.51 Q1234.52 1540.59 1228.2 1540.59 Q1226.02 1540.59 1223.75 1540.22 Q1221.51 1539.85 1219.1 1539.11 L1219.1 1534.41 Q1221.18 1535.54 1223.4 1536.1 Q1225.63 1536.66 1228.1 1536.66 Q1232.11 1536.66 1234.45 1534.55 Q1236.78 1532.44 1236.78 1528.83 Q1236.78 1525.22 1234.45 1523.11 Q1232.11 1521.01 1228.1 1521.01 Q1226.23 1521.01 1224.35 1521.42 Q1222.5 1521.84 1220.56 1522.72 L1220.56 1505.36 Z\" fill=\"#000000\" fill-rule=\"evenodd\" fill-opacity=\"1\" /><path clip-path=\"url(#clip890)\" d=\"M 0 0 M1246.53 1534.04 L1251.41 1534.04 L1251.41 1539.92 L1246.53 1539.92 L1246.53 1534.04 Z\" fill=\"#000000\" fill-rule=\"evenodd\" fill-opacity=\"1\" /><path clip-path=\"url(#clip890)\" d=\"M 0 0 M1266.48 1508.44 Q1262.87 1508.44 1261.04 1512 Q1259.24 1515.55 1259.24 1522.67 Q1259.24 1529.78 1261.04 1533.35 Q1262.87 1536.89 1266.48 1536.89 Q1270.12 1536.89 1271.92 1533.35 Q1273.75 1529.78 1273.75 1522.67 Q1273.75 1515.55 1271.92 1512 Q1270.12 1508.44 1266.48 1508.44 M1266.48 1504.73 Q1272.29 1504.73 1275.35 1509.34 Q1278.43 1513.92 1278.43 1522.67 Q1278.43 1531.4 1275.35 1536.01 Q1272.29 1540.59 1266.48 1540.59 Q1260.67 1540.59 1257.59 1536.01 Q1254.54 1531.4 1254.54 1522.67 Q1254.54 1513.92 1257.59 1509.34 Q1260.67 1504.73 1266.48 1504.73 Z\" fill=\"#000000\" fill-rule=\"evenodd\" fill-opacity=\"1\" /><path clip-path=\"url(#clip890)\" d=\"M 0 0 M1740.45 1505.36 L1762.67 1505.36 L1762.67 1507.35 L1750.12 1539.92 L1745.24 1539.92 L1757.04 1509.3 L1740.45 1509.3 L1740.45 1505.36 Z\" fill=\"#000000\" fill-rule=\"evenodd\" fill-opacity=\"1\" /><path clip-path=\"url(#clip890)\" d=\"M 0 0 M1767.74 1534.04 L1772.62 1534.04 L1772.62 1539.92 L1767.74 1539.92 L1767.74 1534.04 Z\" fill=\"#000000\" fill-rule=\"evenodd\" fill-opacity=\"1\" /><path clip-path=\"url(#clip890)\" d=\"M 0 0 M1777.74 1505.36 L1796.09 1505.36 L1796.09 1509.3 L1782.02 1509.3 L1782.02 1517.77 Q1783.04 1517.42 1784.06 1517.26 Q1785.08 1517.07 1786.09 1517.07 Q1791.88 1517.07 1795.26 1520.24 Q1798.64 1523.42 1798.64 1528.83 Q1798.64 1534.41 1795.17 1537.51 Q1791.7 1540.59 1785.38 1540.59 Q1783.2 1540.59 1780.93 1540.22 Q1778.69 1539.85 1776.28 1539.11 L1776.28 1534.41 Q1778.36 1535.54 1780.59 1536.1 Q1782.81 1536.66 1785.28 1536.66 Q1789.29 1536.66 1791.63 1534.55 Q1793.96 1532.44 1793.96 1528.83 Q1793.96 1525.22 1791.63 1523.11 Q1789.29 1521.01 1785.28 1521.01 Q1783.41 1521.01 1781.53 1521.42 Q1779.68 1521.84 1777.74 1522.72 L1777.74 1505.36 Z\" fill=\"#000000\" fill-rule=\"evenodd\" fill-opacity=\"1\" /><path clip-path=\"url(#clip890)\" d=\"M 0 0 M2248.72 1535.98 L2256.35 1535.98 L2256.35 1509.62 L2248.04 1511.29 L2248.04 1507.03 L2256.31 1505.36 L2260.98 1505.36 L2260.98 1535.98 L2268.62 1535.98 L2268.62 1539.92 L2248.72 1539.92 L2248.72 1535.98 Z\" fill=\"#000000\" fill-rule=\"evenodd\" fill-opacity=\"1\" /><path clip-path=\"url(#clip890)\" d=\"M 0 0 M2283.69 1508.44 Q2280.08 1508.44 2278.25 1512 Q2276.45 1515.55 2276.45 1522.67 Q2276.45 1529.78 2278.25 1533.35 Q2280.08 1536.89 2283.69 1536.89 Q2287.33 1536.89 2289.13 1533.35 Q2290.96 1529.78 2290.96 1522.67 Q2290.96 1515.55 2289.13 1512 Q2287.33 1508.44 2283.69 1508.44 M2283.69 1504.73 Q2289.5 1504.73 2292.56 1509.34 Q2295.64 1513.92 2295.64 1522.67 Q2295.64 1531.4 2292.56 1536.01 Q2289.5 1540.59 2283.69 1540.59 Q2277.88 1540.59 2274.8 1536.01 Q2271.75 1531.4 2271.75 1522.67 Q2271.75 1513.92 2274.8 1509.34 Q2277.88 1504.73 2283.69 1504.73 Z\" fill=\"#000000\" fill-rule=\"evenodd\" fill-opacity=\"1\" /><path clip-path=\"url(#clip890)\" d=\"M 0 0 M2300.71 1534.04 L2305.59 1534.04 L2305.59 1539.92 L2300.71 1539.92 L2300.71 1534.04 Z\" fill=\"#000000\" fill-rule=\"evenodd\" fill-opacity=\"1\" /><path clip-path=\"url(#clip890)\" d=\"M 0 0 M2320.66 1508.44 Q2317.05 1508.44 2315.22 1512 Q2313.41 1515.55 2313.41 1522.67 Q2313.41 1529.78 2315.22 1533.35 Q2317.05 1536.89 2320.66 1536.89 Q2324.29 1536.89 2326.1 1533.35 Q2327.93 1529.78 2327.93 1522.67 Q2327.93 1515.55 2326.1 1512 Q2324.29 1508.44 2320.66 1508.44 M2320.66 1504.73 Q2326.47 1504.73 2329.53 1509.34 Q2332.6 1513.92 2332.6 1522.67 Q2332.6 1531.4 2329.53 1536.01 Q2326.47 1540.59 2320.66 1540.59 Q2314.85 1540.59 2311.77 1536.01 Q2308.72 1531.4 2308.72 1522.67 Q2308.72 1513.92 2311.77 1509.34 Q2314.85 1504.73 2320.66 1504.73 Z\" fill=\"#000000\" fill-rule=\"evenodd\" fill-opacity=\"1\" /><path clip-path=\"url(#clip890)\" d=\"M 0 0 M74.9365 1204.85 Q71.3254 1204.85 69.4967 1208.42 Q67.6912 1211.96 67.6912 1219.09 Q67.6912 1226.19 69.4967 1229.76 Q71.3254 1233.3 74.9365 1233.3 Q78.5707 1233.3 80.3763 1229.76 Q82.205 1226.19 82.205 1219.09 Q82.205 1211.96 80.3763 1208.42 Q78.5707 1204.85 74.9365 1204.85 M74.9365 1201.15 Q80.7467 1201.15 83.8022 1205.75 Q86.8809 1210.34 86.8809 1219.09 Q86.8809 1227.81 83.8022 1232.42 Q80.7467 1237 74.9365 1237 Q69.1264 1237 66.0477 1232.42 Q62.9921 1227.81 62.9921 1219.09 Q62.9921 1210.34 66.0477 1205.75 Q69.1264 1201.15 74.9365 1201.15 Z\" fill=\"#000000\" fill-rule=\"evenodd\" fill-opacity=\"1\" /><path clip-path=\"url(#clip890)\" d=\"M 0 0 M91.9503 1230.45 L96.8345 1230.45 L96.8345 1236.33 L91.9503 1236.33 L91.9503 1230.45 Z\" fill=\"#000000\" fill-rule=\"evenodd\" fill-opacity=\"1\" /><path clip-path=\"url(#clip890)\" d=\"M 0 0 M101.95 1201.77 L120.307 1201.77 L120.307 1205.71 L106.233 1205.71 L106.233 1214.18 Q107.251 1213.83 108.27 1213.67 Q109.288 1213.49 110.307 1213.49 Q116.094 1213.49 119.473 1216.66 Q122.853 1219.83 122.853 1225.25 Q122.853 1230.82 119.381 1233.93 Q115.909 1237 109.589 1237 Q107.413 1237 105.145 1236.63 Q102.899 1236.26 100.492 1235.52 L100.492 1230.82 Q102.575 1231.96 104.797 1232.51 Q107.02 1233.07 109.497 1233.07 Q113.501 1233.07 115.839 1230.96 Q118.177 1228.86 118.177 1225.25 Q118.177 1221.63 115.839 1219.53 Q113.501 1217.42 109.497 1217.42 Q107.622 1217.42 105.747 1217.84 Q103.895 1218.25 101.95 1219.13 L101.95 1201.77 Z\" fill=\"#000000\" fill-rule=\"evenodd\" fill-opacity=\"1\" /><path clip-path=\"url(#clip890)\" d=\"M 0 0 M65.9782 855.378 L73.6171 855.378 L73.6171 829.012 L65.3069 830.679 L65.3069 826.419 L73.5708 824.753 L78.2467 824.753 L78.2467 855.378 L85.8855 855.378 L85.8855 859.313 L65.9782 859.313 L65.9782 855.378 Z\" fill=\"#000000\" fill-rule=\"evenodd\" fill-opacity=\"1\" /><path clip-path=\"url(#clip890)\" d=\"M 0 0 M90.9549 853.433 L95.8392 853.433 L95.8392 859.313 L90.9549 859.313 L90.9549 853.433 Z\" fill=\"#000000\" fill-rule=\"evenodd\" fill-opacity=\"1\" /><path clip-path=\"url(#clip890)\" d=\"M 0 0 M110.909 827.831 Q107.297 827.831 105.469 831.396 Q103.663 834.938 103.663 842.067 Q103.663 849.174 105.469 852.739 Q107.297 856.28 110.909 856.28 Q114.543 856.28 116.348 852.739 Q118.177 849.174 118.177 842.067 Q118.177 834.938 116.348 831.396 Q114.543 827.831 110.909 827.831 M110.909 824.128 Q116.719 824.128 119.774 828.734 Q122.853 833.318 122.853 842.067 Q122.853 850.794 119.774 855.401 Q116.719 859.984 110.909 859.984 Q105.098 859.984 102.02 855.401 Q98.9642 850.794 98.9642 842.067 Q98.9642 833.318 102.02 828.734 Q105.098 824.128 110.909 824.128 Z\" fill=\"#000000\" fill-rule=\"evenodd\" fill-opacity=\"1\" /><path clip-path=\"url(#clip890)\" d=\"M 0 0 M66.9736 478.357 L74.6124 478.357 L74.6124 451.992 L66.3023 453.658 L66.3023 449.399 L74.5661 447.732 L79.242 447.732 L79.242 478.357 L86.8809 478.357 L86.8809 482.292 L66.9736 482.292 L66.9736 478.357 Z\" fill=\"#000000\" fill-rule=\"evenodd\" fill-opacity=\"1\" /><path clip-path=\"url(#clip890)\" d=\"M 0 0 M91.9503 476.413 L96.8345 476.413 L96.8345 482.292 L91.9503 482.292 L91.9503 476.413 Z\" fill=\"#000000\" fill-rule=\"evenodd\" fill-opacity=\"1\" /><path clip-path=\"url(#clip890)\" d=\"M 0 0 M101.95 447.732 L120.307 447.732 L120.307 451.668 L106.233 451.668 L106.233 460.14 Q107.251 459.793 108.27 459.631 Q109.288 459.445 110.307 459.445 Q116.094 459.445 119.473 462.617 Q122.853 465.788 122.853 471.205 Q122.853 476.783 119.381 479.885 Q115.909 482.964 109.589 482.964 Q107.413 482.964 105.145 482.593 Q102.899 482.223 100.492 481.482 L100.492 476.783 Q102.575 477.917 104.797 478.473 Q107.02 479.029 109.497 479.029 Q113.501 479.029 115.839 476.922 Q118.177 474.816 118.177 471.205 Q118.177 467.593 115.839 465.487 Q113.501 463.381 109.497 463.381 Q107.622 463.381 105.747 463.797 Q103.895 464.214 101.95 465.093 L101.95 447.732 Z\" fill=\"#000000\" fill-rule=\"evenodd\" fill-opacity=\"1\" /><path clip-path=\"url(#clip890)\" d=\"M 0 0 M69.5662 101.337 L85.8855 101.337 L85.8855 105.272 L63.9412 105.272 L63.9412 101.337 Q66.6032 98.5824 71.1865 93.9528 Q75.793 89.3 76.9735 87.9574 Q79.2189 85.4343 80.0985 83.6982 Q81.0013 81.9389 81.0013 80.2491 Q81.0013 77.4945 79.0569 75.7584 Q77.1356 74.0223 74.0337 74.0223 Q71.8347 74.0223 69.381 74.7862 Q66.9504 75.5501 64.1727 77.101 L64.1727 72.3788 Q66.9967 71.2446 69.4504 70.6659 Q71.9041 70.0872 73.9411 70.0872 Q79.3115 70.0872 82.5059 72.7723 Q85.7003 75.4575 85.7003 79.9482 Q85.7003 82.0778 84.8902 83.9991 Q84.1031 85.8973 81.9967 88.4898 Q81.418 89.1611 78.3161 92.3787 Q75.2143 95.5731 69.5662 101.337 Z\" fill=\"#000000\" fill-rule=\"evenodd\" fill-opacity=\"1\" /><path clip-path=\"url(#clip890)\" d=\"M 0 0 M90.9549 99.3926 L95.8392 99.3926 L95.8392 105.272 L90.9549 105.272 L90.9549 99.3926 Z\" fill=\"#000000\" fill-rule=\"evenodd\" fill-opacity=\"1\" /><path clip-path=\"url(#clip890)\" d=\"M 0 0 M110.909 73.7908 Q107.297 73.7908 105.469 77.3556 Q103.663 80.8973 103.663 88.0269 Q103.663 95.1333 105.469 98.6981 Q107.297 102.24 110.909 102.24 Q114.543 102.24 116.348 98.6981 Q118.177 95.1333 118.177 88.0269 Q118.177 80.8973 116.348 77.3556 Q114.543 73.7908 110.909 73.7908 M110.909 70.0872 Q116.719 70.0872 119.774 74.6936 Q122.853 79.2769 122.853 88.0269 Q122.853 96.7537 119.774 101.36 Q116.719 105.943 110.909 105.943 Q105.098 105.943 102.02 101.36 Q98.9642 96.7537 98.9642 88.0269 Q98.9642 79.2769 102.02 74.6936 Q105.098 70.0872 110.909 70.0872 Z\" fill=\"#000000\" fill-rule=\"evenodd\" fill-opacity=\"1\" /><polyline clip-path=\"url(#clip892)\" style=\"stroke:#009af9; stroke-width:4; stroke-opacity:1; fill:none\" points=\"\n",
       "  209.284,1304.54 230.305,87.9763 251.325,87.9763 272.346,87.9763 293.367,87.9763 314.387,87.9763 335.408,87.9763 356.428,88.1588 377.449,88.4376 398.47,88.9506 \n",
       "  419.49,90.6308 440.511,93.3483 461.531,98.4922 482.552,104.555 503.573,114.668 524.593,132.383 545.614,147.918 566.635,166.176 587.655,216.001 608.676,271.9 \n",
       "  629.696,284.636 650.717,347.132 671.738,451.889 692.758,538.632 713.779,595.388 734.799,699.313 755.82,757.744 776.841,827.618 797.861,915.451 818.882,951.243 \n",
       "  839.902,968.337 860.923,1017.85 881.944,1051.72 902.964,1060.59 923.985,1100.3 945.006,1105.93 966.026,1138.9 987.047,1136.28 1008.07,1162.83 1029.09,1161.33 \n",
       "  1050.11,1188.44 1071.13,1191.89 1092.15,1210.93 1113.17,1227.03 1134.19,1218.78 1155.21,1223.29 1176.23,1249.43 1197.25,1246.51 1218.27,1258.19 1239.29,1260.68 \n",
       "  1260.31,1278.09 1281.34,1290.39 1302.36,1292.38 1323.38,1289.49 1344.4,1298.41 1365.42,1311.43 1386.44,1315.87 1407.46,1320.25 1428.48,1329.4 1449.5,1326.86 \n",
       "  1470.52,1330.93 1491.54,1345.5 1512.56,1344.51 1533.58,1345.79 1554.6,1350.68 1575.62,1348.35 1596.64,1361.72 1617.67,1361.66 1638.69,1374.79 1659.71,1382.53 \n",
       "  1680.73,1375.22 1701.75,1376.69 1722.77,1377.98 1743.79,1390 1764.81,1388.63 1785.83,1395.75 1806.85,1397.39 1827.87,1399.83 1848.89,1404.5 1869.91,1400.46 \n",
       "  1890.93,1403.66 1911.95,1403.97 1932.97,1404.68 1953.99,1417.69 1975.02,1410.82 1996.04,1422.56 2017.06,1416.45 2038.08,1429.78 2059.1,1420.02 2080.12,1432.05 \n",
       "  2101.14,1423.85 2122.16,1426.85 2143.18,1427.09 2164.2,1439.88 2185.22,1436.07 2206.24,1433.15 2227.26,1442.23 2248.28,1445.72 2269.3,1443.34 2290.32,1445.35 \n",
       "  \n",
       "  \"/>\n",
       "<path clip-path=\"url(#clip890)\" d=\"\n",
       "M2061.74 155.698 L2352.76 155.698 L2352.76 34.7376 L2061.74 34.7376  Z\n",
       "  \" fill=\"#ffffff\" fill-rule=\"evenodd\" fill-opacity=\"1\"/>\n",
       "<polyline clip-path=\"url(#clip890)\" style=\"stroke:#000000; stroke-width:4; stroke-opacity:1; fill:none\" points=\"\n",
       "  2061.74,155.698 2352.76,155.698 2352.76,34.7376 2061.74,34.7376 2061.74,155.698 \n",
       "  \"/>\n",
       "<polyline clip-path=\"url(#clip890)\" style=\"stroke:#009af9; stroke-width:4; stroke-opacity:1; fill:none\" points=\"\n",
       "  2085.74,95.2176 2229.74,95.2176 \n",
       "  \"/>\n",
       "<path clip-path=\"url(#clip890)\" d=\"M 0 0 M2267.58 114.905 Q2265.77 119.535 2264.06 120.947 Q2262.35 122.359 2259.48 122.359 L2256.08 122.359 L2256.08 118.794 L2258.58 118.794 Q2260.33 118.794 2261.31 117.96 Q2262.28 117.127 2263.46 114.025 L2264.22 112.081 L2253.74 86.5718 L2258.25 86.5718 L2266.35 106.849 L2274.46 86.5718 L2278.97 86.5718 L2267.58 114.905 Z\" fill=\"#000000\" fill-rule=\"evenodd\" fill-opacity=\"1\" /><path clip-path=\"url(#clip890)\" d=\"M 0 0 M2284.85 108.562 L2292.49 108.562 L2292.49 82.1968 L2284.18 83.8634 L2284.18 79.6042 L2292.44 77.9376 L2297.12 77.9376 L2297.12 108.562 L2304.76 108.562 L2304.76 112.498 L2284.85 112.498 L2284.85 108.562 Z\" fill=\"#000000\" fill-rule=\"evenodd\" fill-opacity=\"1\" /></svg>\n"
      ]
     },
     "execution_count": 57,
     "metadata": {},
     "output_type": "execute_result"
    }
   ],
   "source": [
    "Temp = range(0.01, 10, length = 100)\n",
    "E_site = []\n",
    "for T in Temp\n",
    "    push!(E_site, macrostate(spins(T,1),5000).energy_site)\n",
    "end\n",
    "plot(Temp, E_site)"
   ]
  },
  {
   "cell_type": "code",
   "execution_count": 53,
   "metadata": {},
   "outputs": [
    {
     "data": {
      "text/plain": [
       "1-element Array{Any,1}:\n",
       " 1"
      ]
     },
     "execution_count": 53,
     "metadata": {},
     "output_type": "execute_result"
    }
   ],
   "source": [
    "b=[ ]\n",
    "push!(b,1)"
   ]
  },
  {
   "cell_type": "code",
   "execution_count": null,
   "metadata": {},
   "outputs": [],
   "source": []
  },
  {
   "cell_type": "code",
   "execution_count": null,
   "metadata": {},
   "outputs": [],
   "source": []
  },
  {
   "cell_type": "code",
   "execution_count": null,
   "metadata": {},
   "outputs": [],
   "source": []
  },
  {
   "cell_type": "code",
   "execution_count": 36,
   "metadata": {},
   "outputs": [
    {
     "name": "stdout",
     "output_type": "stream",
     "text": [
      "1.28128 -0.9918 -0.78724 -0.89544 -0.84184 -0.78208 -0.8012 -0.67976 -1.01536 -0.8032 -1.03012 -0.83484 -0.70008 -0.8596 -0.83668 -0.78768 -1.06784 -1.06116 -0.74672 -0.68212 -0.60324 -0.67372 -0.89764 -0.65748 -0.4168 -0.56076 -0.41012 -0.55424 -0.38804 -0.54164 -0.43492 -0.43336 -0.52704 -0.47272 -0.35476 -0.38328 -0.3532 -0.31328 -0.3482 -0.31188 -0.39356 -0.2846 -0.25396 -0.2682 -0.2628 -0.251 -0.23652 -0.22784 -0.17612 -0.22212 -0.20012 -0.2724 -0.18284 -0.19968 -0.1988 -0.22624 -0.19032 -0.23672 -0.2696 -0.13576 -0.13996 -0.20496 -0.19316 -0.18412 -0.12412 -0.20036 -0.18236 -0.1668 -0.1308 -0.18736 -0.08852 -0.19384 -0.178 -0.08984 -0.13156 -0.12588 -0.11864 -0.11728 -0.18616 -0.12452 -0.15788 -0.06056 -0.16976 -0.1242 -0.12748 -0.10024 -0.18332 -0.12392 -0.13388 -0.10696 -0.06448 -0.09828 -0.0968 -0.08308 -0.00324 -0.07688 -0.06968 -0.08856 -0.13092 -0.11648 "
     ]
    },
    {
     "data": {
      "image/svg+xml": [
       "<?xml version=\"1.0\" encoding=\"utf-8\"?>\n",
       "<svg xmlns=\"http://www.w3.org/2000/svg\" xmlns:xlink=\"http://www.w3.org/1999/xlink\" width=\"600\" height=\"400\" viewBox=\"0 0 2400 1600\">\n",
       "<defs>\n",
       "  <clipPath id=\"clip930\">\n",
       "    <rect x=\"0\" y=\"0\" width=\"2400\" height=\"1600\"/>\n",
       "  </clipPath>\n",
       "</defs>\n",
       "<path clip-path=\"url(#clip930)\" d=\"\n",
       "M0 1600 L2400 1600 L2400 0 L0 0  Z\n",
       "  \" fill=\"#ffffff\" fill-rule=\"evenodd\" fill-opacity=\"1\"/>\n",
       "<defs>\n",
       "  <clipPath id=\"clip931\">\n",
       "    <rect x=\"480\" y=\"0\" width=\"1681\" height=\"1600\"/>\n",
       "  </clipPath>\n",
       "</defs>\n",
       "<path clip-path=\"url(#clip930)\" d=\"\n",
       "M216.482 1486.45 L2352.76 1486.45 L2352.76 47.2441 L216.482 47.2441  Z\n",
       "  \" fill=\"#ffffff\" fill-rule=\"evenodd\" fill-opacity=\"1\"/>\n",
       "<defs>\n",
       "  <clipPath id=\"clip932\">\n",
       "    <rect x=\"216\" y=\"47\" width=\"2137\" height=\"1440\"/>\n",
       "  </clipPath>\n",
       "</defs>\n",
       "<polyline clip-path=\"url(#clip932)\" style=\"stroke:#000000; stroke-width:2; stroke-opacity:0.1; fill:none\" points=\"\n",
       "  274.925,1486.45 274.925,47.2441 \n",
       "  \"/>\n",
       "<polyline clip-path=\"url(#clip932)\" style=\"stroke:#000000; stroke-width:2; stroke-opacity:0.1; fill:none\" points=\"\n",
       "  779.268,1486.45 779.268,47.2441 \n",
       "  \"/>\n",
       "<polyline clip-path=\"url(#clip932)\" style=\"stroke:#000000; stroke-width:2; stroke-opacity:0.1; fill:none\" points=\"\n",
       "  1283.61,1486.45 1283.61,47.2441 \n",
       "  \"/>\n",
       "<polyline clip-path=\"url(#clip932)\" style=\"stroke:#000000; stroke-width:2; stroke-opacity:0.1; fill:none\" points=\"\n",
       "  1787.95,1486.45 1787.95,47.2441 \n",
       "  \"/>\n",
       "<polyline clip-path=\"url(#clip932)\" style=\"stroke:#000000; stroke-width:2; stroke-opacity:0.1; fill:none\" points=\"\n",
       "  2292.3,1486.45 2292.3,47.2441 \n",
       "  \"/>\n",
       "<polyline clip-path=\"url(#clip932)\" style=\"stroke:#000000; stroke-width:2; stroke-opacity:0.1; fill:none\" points=\"\n",
       "  216.482,1253.62 2352.76,1253.62 \n",
       "  \"/>\n",
       "<polyline clip-path=\"url(#clip932)\" style=\"stroke:#000000; stroke-width:2; stroke-opacity:0.1; fill:none\" points=\"\n",
       "  216.482,962.208 2352.76,962.208 \n",
       "  \"/>\n",
       "<polyline clip-path=\"url(#clip932)\" style=\"stroke:#000000; stroke-width:2; stroke-opacity:0.1; fill:none\" points=\"\n",
       "  216.482,670.797 2352.76,670.797 \n",
       "  \"/>\n",
       "<polyline clip-path=\"url(#clip932)\" style=\"stroke:#000000; stroke-width:2; stroke-opacity:0.1; fill:none\" points=\"\n",
       "  216.482,379.387 2352.76,379.387 \n",
       "  \"/>\n",
       "<polyline clip-path=\"url(#clip932)\" style=\"stroke:#000000; stroke-width:2; stroke-opacity:0.1; fill:none\" points=\"\n",
       "  216.482,87.9763 2352.76,87.9763 \n",
       "  \"/>\n",
       "<polyline clip-path=\"url(#clip930)\" style=\"stroke:#000000; stroke-width:4; stroke-opacity:1; fill:none\" points=\"\n",
       "  216.482,1486.45 2352.76,1486.45 \n",
       "  \"/>\n",
       "<polyline clip-path=\"url(#clip930)\" style=\"stroke:#000000; stroke-width:4; stroke-opacity:1; fill:none\" points=\"\n",
       "  216.482,1486.45 216.482,47.2441 \n",
       "  \"/>\n",
       "<polyline clip-path=\"url(#clip930)\" style=\"stroke:#000000; stroke-width:4; stroke-opacity:1; fill:none\" points=\"\n",
       "  274.925,1486.45 274.925,1469.18 \n",
       "  \"/>\n",
       "<polyline clip-path=\"url(#clip930)\" style=\"stroke:#000000; stroke-width:4; stroke-opacity:1; fill:none\" points=\"\n",
       "  779.268,1486.45 779.268,1469.18 \n",
       "  \"/>\n",
       "<polyline clip-path=\"url(#clip930)\" style=\"stroke:#000000; stroke-width:4; stroke-opacity:1; fill:none\" points=\"\n",
       "  1283.61,1486.45 1283.61,1469.18 \n",
       "  \"/>\n",
       "<polyline clip-path=\"url(#clip930)\" style=\"stroke:#000000; stroke-width:4; stroke-opacity:1; fill:none\" points=\"\n",
       "  1787.95,1486.45 1787.95,1469.18 \n",
       "  \"/>\n",
       "<polyline clip-path=\"url(#clip930)\" style=\"stroke:#000000; stroke-width:4; stroke-opacity:1; fill:none\" points=\"\n",
       "  2292.3,1486.45 2292.3,1469.18 \n",
       "  \"/>\n",
       "<polyline clip-path=\"url(#clip930)\" style=\"stroke:#000000; stroke-width:4; stroke-opacity:1; fill:none\" points=\"\n",
       "  216.482,1253.62 242.117,1253.62 \n",
       "  \"/>\n",
       "<polyline clip-path=\"url(#clip930)\" style=\"stroke:#000000; stroke-width:4; stroke-opacity:1; fill:none\" points=\"\n",
       "  216.482,962.208 242.117,962.208 \n",
       "  \"/>\n",
       "<polyline clip-path=\"url(#clip930)\" style=\"stroke:#000000; stroke-width:4; stroke-opacity:1; fill:none\" points=\"\n",
       "  216.482,670.797 242.117,670.797 \n",
       "  \"/>\n",
       "<polyline clip-path=\"url(#clip930)\" style=\"stroke:#000000; stroke-width:4; stroke-opacity:1; fill:none\" points=\"\n",
       "  216.482,379.387 242.117,379.387 \n",
       "  \"/>\n",
       "<polyline clip-path=\"url(#clip930)\" style=\"stroke:#000000; stroke-width:4; stroke-opacity:1; fill:none\" points=\"\n",
       "  216.482,87.9763 242.117,87.9763 \n",
       "  \"/>\n",
       "<path clip-path=\"url(#clip930)\" d=\"M 0 0 M256.442 1508.44 Q252.831 1508.44 251.002 1512 Q249.196 1515.55 249.196 1522.67 Q249.196 1529.78 251.002 1533.35 Q252.831 1536.89 256.442 1536.89 Q260.076 1536.89 261.881 1533.35 Q263.71 1529.78 263.71 1522.67 Q263.71 1515.55 261.881 1512 Q260.076 1508.44 256.442 1508.44 M256.442 1504.73 Q262.252 1504.73 265.307 1509.34 Q268.386 1513.92 268.386 1522.67 Q268.386 1531.4 265.307 1536.01 Q262.252 1540.59 256.442 1540.59 Q250.632 1540.59 247.553 1536.01 Q244.497 1531.4 244.497 1522.67 Q244.497 1513.92 247.553 1509.34 Q250.632 1504.73 256.442 1504.73 Z\" fill=\"#000000\" fill-rule=\"evenodd\" fill-opacity=\"1\" /><path clip-path=\"url(#clip930)\" d=\"M 0 0 M273.455 1534.04 L278.34 1534.04 L278.34 1539.92 L273.455 1539.92 L273.455 1534.04 Z\" fill=\"#000000\" fill-rule=\"evenodd\" fill-opacity=\"1\" /><path clip-path=\"url(#clip930)\" d=\"M 0 0 M293.409 1508.44 Q289.798 1508.44 287.969 1512 Q286.164 1515.55 286.164 1522.67 Q286.164 1529.78 287.969 1533.35 Q289.798 1536.89 293.409 1536.89 Q297.043 1536.89 298.849 1533.35 Q300.678 1529.78 300.678 1522.67 Q300.678 1515.55 298.849 1512 Q297.043 1508.44 293.409 1508.44 M293.409 1504.73 Q299.219 1504.73 302.275 1509.34 Q305.353 1513.92 305.353 1522.67 Q305.353 1531.4 302.275 1536.01 Q299.219 1540.59 293.409 1540.59 Q287.599 1540.59 284.52 1536.01 Q281.465 1531.4 281.465 1522.67 Q281.465 1513.92 284.52 1509.34 Q287.599 1504.73 293.409 1504.73 Z\" fill=\"#000000\" fill-rule=\"evenodd\" fill-opacity=\"1\" /><path clip-path=\"url(#clip930)\" d=\"M 0 0 M755.935 1535.98 L772.254 1535.98 L772.254 1539.92 L750.31 1539.92 L750.31 1535.98 Q752.972 1533.23 757.555 1528.6 Q762.161 1523.95 763.342 1522.61 Q765.587 1520.08 766.467 1518.35 Q767.37 1516.59 767.37 1514.9 Q767.37 1512.14 765.425 1510.41 Q763.504 1508.67 760.402 1508.67 Q758.203 1508.67 755.749 1509.43 Q753.319 1510.2 750.541 1511.75 L750.541 1507.03 Q753.365 1505.89 755.819 1505.31 Q758.273 1504.73 760.31 1504.73 Q765.68 1504.73 768.874 1507.42 Q772.069 1510.11 772.069 1514.6 Q772.069 1516.73 771.259 1518.65 Q770.472 1520.54 768.365 1523.14 Q767.786 1523.81 764.685 1527.03 Q761.583 1530.22 755.935 1535.98 Z\" fill=\"#000000\" fill-rule=\"evenodd\" fill-opacity=\"1\" /><path clip-path=\"url(#clip930)\" d=\"M 0 0 M777.323 1534.04 L782.208 1534.04 L782.208 1539.92 L777.323 1539.92 L777.323 1534.04 Z\" fill=\"#000000\" fill-rule=\"evenodd\" fill-opacity=\"1\" /><path clip-path=\"url(#clip930)\" d=\"M 0 0 M787.323 1505.36 L805.68 1505.36 L805.68 1509.3 L791.606 1509.3 L791.606 1517.77 Q792.624 1517.42 793.643 1517.26 Q794.661 1517.07 795.68 1517.07 Q801.467 1517.07 804.846 1520.24 Q808.226 1523.42 808.226 1528.83 Q808.226 1534.41 804.754 1537.51 Q801.282 1540.59 794.962 1540.59 Q792.786 1540.59 790.518 1540.22 Q788.272 1539.85 785.865 1539.11 L785.865 1534.41 Q787.948 1535.54 790.171 1536.1 Q792.393 1536.66 794.87 1536.66 Q798.874 1536.66 801.212 1534.55 Q803.55 1532.44 803.55 1528.83 Q803.55 1525.22 801.212 1523.11 Q798.874 1521.01 794.87 1521.01 Q792.995 1521.01 791.12 1521.42 Q789.268 1521.84 787.323 1522.72 L787.323 1505.36 Z\" fill=\"#000000\" fill-rule=\"evenodd\" fill-opacity=\"1\" /><path clip-path=\"url(#clip930)\" d=\"M 0 0 M1255.4 1505.36 L1273.76 1505.36 L1273.76 1509.3 L1259.69 1509.3 L1259.69 1517.77 Q1260.71 1517.42 1261.72 1517.26 Q1262.74 1517.07 1263.76 1517.07 Q1269.55 1517.07 1272.93 1520.24 Q1276.31 1523.42 1276.31 1528.83 Q1276.31 1534.41 1272.83 1537.51 Q1269.36 1540.59 1263.04 1540.59 Q1260.87 1540.59 1258.6 1540.22 Q1256.35 1539.85 1253.95 1539.11 L1253.95 1534.41 Q1256.03 1535.54 1258.25 1536.1 Q1260.47 1536.66 1262.95 1536.66 Q1266.96 1536.66 1269.29 1534.55 Q1271.63 1532.44 1271.63 1528.83 Q1271.63 1525.22 1269.29 1523.11 Q1266.96 1521.01 1262.95 1521.01 Q1261.08 1521.01 1259.2 1521.42 Q1257.35 1521.84 1255.4 1522.72 L1255.4 1505.36 Z\" fill=\"#000000\" fill-rule=\"evenodd\" fill-opacity=\"1\" /><path clip-path=\"url(#clip930)\" d=\"M 0 0 M1281.38 1534.04 L1286.26 1534.04 L1286.26 1539.92 L1281.38 1539.92 L1281.38 1534.04 Z\" fill=\"#000000\" fill-rule=\"evenodd\" fill-opacity=\"1\" /><path clip-path=\"url(#clip930)\" d=\"M 0 0 M1301.33 1508.44 Q1297.72 1508.44 1295.89 1512 Q1294.08 1515.55 1294.08 1522.67 Q1294.08 1529.78 1295.89 1533.35 Q1297.72 1536.89 1301.33 1536.89 Q1304.96 1536.89 1306.77 1533.35 Q1308.6 1529.78 1308.6 1522.67 Q1308.6 1515.55 1306.77 1512 Q1304.96 1508.44 1301.33 1508.44 M1301.33 1504.73 Q1307.14 1504.73 1310.2 1509.34 Q1313.27 1513.92 1313.27 1522.67 Q1313.27 1531.4 1310.2 1536.01 Q1307.14 1540.59 1301.33 1540.59 Q1295.52 1540.59 1292.44 1536.01 Q1289.39 1531.4 1289.39 1522.67 Q1289.39 1513.92 1292.44 1509.34 Q1295.52 1504.73 1301.33 1504.73 Z\" fill=\"#000000\" fill-rule=\"evenodd\" fill-opacity=\"1\" /><path clip-path=\"url(#clip930)\" d=\"M 0 0 M1758.86 1505.36 L1781.08 1505.36 L1781.08 1507.35 L1768.53 1539.92 L1763.65 1539.92 L1775.45 1509.3 L1758.86 1509.3 L1758.86 1505.36 Z\" fill=\"#000000\" fill-rule=\"evenodd\" fill-opacity=\"1\" /><path clip-path=\"url(#clip930)\" d=\"M 0 0 M1786.15 1534.04 L1791.03 1534.04 L1791.03 1539.92 L1786.15 1539.92 L1786.15 1534.04 Z\" fill=\"#000000\" fill-rule=\"evenodd\" fill-opacity=\"1\" /><path clip-path=\"url(#clip930)\" d=\"M 0 0 M1796.15 1505.36 L1814.5 1505.36 L1814.5 1509.3 L1800.43 1509.3 L1800.43 1517.77 Q1801.45 1517.42 1802.47 1517.26 Q1803.49 1517.07 1804.5 1517.07 Q1810.29 1517.07 1813.67 1520.24 Q1817.05 1523.42 1817.05 1528.83 Q1817.05 1534.41 1813.58 1537.51 Q1810.11 1540.59 1803.79 1540.59 Q1801.61 1540.59 1799.34 1540.22 Q1797.1 1539.85 1794.69 1539.11 L1794.69 1534.41 Q1796.77 1535.54 1798.99 1536.1 Q1801.22 1536.66 1803.69 1536.66 Q1807.7 1536.66 1810.04 1534.55 Q1812.37 1532.44 1812.37 1528.83 Q1812.37 1525.22 1810.04 1523.11 Q1807.7 1521.01 1803.69 1521.01 Q1801.82 1521.01 1799.94 1521.42 Q1798.09 1521.84 1796.15 1522.72 L1796.15 1505.36 Z\" fill=\"#000000\" fill-rule=\"evenodd\" fill-opacity=\"1\" /><path clip-path=\"url(#clip930)\" d=\"M 0 0 M2250.69 1535.98 L2258.33 1535.98 L2258.33 1509.62 L2250.02 1511.29 L2250.02 1507.03 L2258.28 1505.36 L2262.96 1505.36 L2262.96 1535.98 L2270.59 1535.98 L2270.59 1539.92 L2250.69 1539.92 L2250.69 1535.98 Z\" fill=\"#000000\" fill-rule=\"evenodd\" fill-opacity=\"1\" /><path clip-path=\"url(#clip930)\" d=\"M 0 0 M2285.66 1508.44 Q2282.05 1508.44 2280.22 1512 Q2278.42 1515.55 2278.42 1522.67 Q2278.42 1529.78 2280.22 1533.35 Q2282.05 1536.89 2285.66 1536.89 Q2289.3 1536.89 2291.1 1533.35 Q2292.93 1529.78 2292.93 1522.67 Q2292.93 1515.55 2291.1 1512 Q2289.3 1508.44 2285.66 1508.44 M2285.66 1504.73 Q2291.47 1504.73 2294.53 1509.34 Q2297.61 1513.92 2297.61 1522.67 Q2297.61 1531.4 2294.53 1536.01 Q2291.47 1540.59 2285.66 1540.59 Q2279.85 1540.59 2276.77 1536.01 Q2273.72 1531.4 2273.72 1522.67 Q2273.72 1513.92 2276.77 1509.34 Q2279.85 1504.73 2285.66 1504.73 Z\" fill=\"#000000\" fill-rule=\"evenodd\" fill-opacity=\"1\" /><path clip-path=\"url(#clip930)\" d=\"M 0 0 M2302.68 1534.04 L2307.56 1534.04 L2307.56 1539.92 L2302.68 1539.92 L2302.68 1534.04 Z\" fill=\"#000000\" fill-rule=\"evenodd\" fill-opacity=\"1\" /><path clip-path=\"url(#clip930)\" d=\"M 0 0 M2322.63 1508.44 Q2319.02 1508.44 2317.19 1512 Q2315.39 1515.55 2315.39 1522.67 Q2315.39 1529.78 2317.19 1533.35 Q2319.02 1536.89 2322.63 1536.89 Q2326.27 1536.89 2328.07 1533.35 Q2329.9 1529.78 2329.9 1522.67 Q2329.9 1515.55 2328.07 1512 Q2326.27 1508.44 2322.63 1508.44 M2322.63 1504.73 Q2328.44 1504.73 2331.5 1509.34 Q2334.58 1513.92 2334.58 1522.67 Q2334.58 1531.4 2331.5 1536.01 Q2328.44 1540.59 2322.63 1540.59 Q2316.82 1540.59 2313.74 1536.01 Q2310.69 1531.4 2310.69 1522.67 Q2310.69 1513.92 2313.74 1509.34 Q2316.82 1504.73 2322.63 1504.73 Z\" fill=\"#000000\" fill-rule=\"evenodd\" fill-opacity=\"1\" /><path clip-path=\"url(#clip930)\" d=\"M 0 0 M63.2236 1256.01 L75.7004 1256.01 L75.7004 1259.81 L63.2236 1259.81 L63.2236 1256.01 Z\" fill=\"#000000\" fill-rule=\"evenodd\" fill-opacity=\"1\" /><path clip-path=\"url(#clip930)\" d=\"M 0 0 M90.7698 1239.42 Q87.1587 1239.42 85.33 1242.98 Q83.5244 1246.52 83.5244 1253.65 Q83.5244 1260.76 85.33 1264.32 Q87.1587 1267.87 90.7698 1267.87 Q94.404 1267.87 96.2095 1264.32 Q98.0382 1260.76 98.0382 1253.65 Q98.0382 1246.52 96.2095 1242.98 Q94.404 1239.42 90.7698 1239.42 M90.7698 1235.71 Q96.5799 1235.71 99.6354 1240.32 Q102.714 1244.9 102.714 1253.65 Q102.714 1262.38 99.6354 1266.99 Q96.5799 1271.57 90.7698 1271.57 Q84.9596 1271.57 81.8809 1266.99 Q78.8254 1262.38 78.8254 1253.65 Q78.8254 1244.9 81.8809 1240.32 Q84.9596 1235.71 90.7698 1235.71 Z\" fill=\"#000000\" fill-rule=\"evenodd\" fill-opacity=\"1\" /><path clip-path=\"url(#clip930)\" d=\"M 0 0 M107.784 1265.02 L112.668 1265.02 L112.668 1270.9 L107.784 1270.9 L107.784 1265.02 Z\" fill=\"#000000\" fill-rule=\"evenodd\" fill-opacity=\"1\" /><path clip-path=\"url(#clip930)\" d=\"M 0 0 M118.547 1266.96 L126.186 1266.96 L126.186 1240.6 L117.876 1242.26 L117.876 1238 L126.14 1236.34 L130.816 1236.34 L130.816 1266.96 L138.455 1266.96 L138.455 1270.9 L118.547 1270.9 L118.547 1266.96 Z\" fill=\"#000000\" fill-rule=\"evenodd\" fill-opacity=\"1\" /><path clip-path=\"url(#clip930)\" d=\"M 0 0 M153.524 1239.42 Q149.913 1239.42 148.084 1242.98 Q146.279 1246.52 146.279 1253.65 Q146.279 1260.76 148.084 1264.32 Q149.913 1267.87 153.524 1267.87 Q157.158 1267.87 158.964 1264.32 Q160.793 1260.76 160.793 1253.65 Q160.793 1246.52 158.964 1242.98 Q157.158 1239.42 153.524 1239.42 M153.524 1235.71 Q159.334 1235.71 162.39 1240.32 Q165.468 1244.9 165.468 1253.65 Q165.468 1262.38 162.39 1266.99 Q159.334 1271.57 153.524 1271.57 Q147.714 1271.57 144.635 1266.99 Q141.58 1262.38 141.58 1253.65 Q141.58 1244.9 144.635 1240.32 Q147.714 1235.71 153.524 1235.71 Z\" fill=\"#000000\" fill-rule=\"evenodd\" fill-opacity=\"1\" /><path clip-path=\"url(#clip930)\" d=\"M 0 0 M180.538 1239.42 Q176.927 1239.42 175.098 1242.98 Q173.292 1246.52 173.292 1253.65 Q173.292 1260.76 175.098 1264.32 Q176.927 1267.87 180.538 1267.87 Q184.172 1267.87 185.978 1264.32 Q187.806 1260.76 187.806 1253.65 Q187.806 1246.52 185.978 1242.98 Q184.172 1239.42 180.538 1239.42 M180.538 1235.71 Q186.348 1235.71 189.403 1240.32 Q192.482 1244.9 192.482 1253.65 Q192.482 1262.38 189.403 1266.99 Q186.348 1271.57 180.538 1271.57 Q174.728 1271.57 171.649 1266.99 Q168.593 1262.38 168.593 1253.65 Q168.593 1244.9 171.649 1240.32 Q174.728 1235.71 180.538 1235.71 Z\" fill=\"#000000\" fill-rule=\"evenodd\" fill-opacity=\"1\" /><path clip-path=\"url(#clip930)\" d=\"M 0 0 M63.8949 964.603 L76.3717 964.603 L76.3717 968.4 L63.8949 968.4 L63.8949 964.603 Z\" fill=\"#000000\" fill-rule=\"evenodd\" fill-opacity=\"1\" /><path clip-path=\"url(#clip930)\" d=\"M 0 0 M91.441 948.006 Q87.83 948.006 86.0013 951.571 Q84.1957 955.113 84.1957 962.242 Q84.1957 969.349 86.0013 972.913 Q87.83 976.455 91.441 976.455 Q95.0753 976.455 96.8808 972.913 Q98.7095 969.349 98.7095 962.242 Q98.7095 955.113 96.8808 951.571 Q95.0753 948.006 91.441 948.006 M91.441 944.303 Q97.2512 944.303 100.307 948.909 Q103.385 953.492 103.385 962.242 Q103.385 970.969 100.307 975.576 Q97.2512 980.159 91.441 980.159 Q85.6309 980.159 82.5522 975.576 Q79.4967 970.969 79.4967 962.242 Q79.4967 953.492 82.5522 948.909 Q85.6309 944.303 91.441 944.303 Z\" fill=\"#000000\" fill-rule=\"evenodd\" fill-opacity=\"1\" /><path clip-path=\"url(#clip930)\" d=\"M 0 0 M108.455 973.608 L113.339 973.608 L113.339 979.488 L108.455 979.488 L108.455 973.608 Z\" fill=\"#000000\" fill-rule=\"evenodd\" fill-opacity=\"1\" /><path clip-path=\"url(#clip930)\" d=\"M 0 0 M128.408 948.006 Q124.797 948.006 122.969 951.571 Q121.163 955.113 121.163 962.242 Q121.163 969.349 122.969 972.913 Q124.797 976.455 128.408 976.455 Q132.043 976.455 133.848 972.913 Q135.677 969.349 135.677 962.242 Q135.677 955.113 133.848 951.571 Q132.043 948.006 128.408 948.006 M128.408 944.303 Q134.219 944.303 137.274 948.909 Q140.353 953.492 140.353 962.242 Q140.353 970.969 137.274 975.576 Q134.219 980.159 128.408 980.159 Q122.598 980.159 119.52 975.576 Q116.464 970.969 116.464 962.242 Q116.464 953.492 119.52 948.909 Q122.598 944.303 128.408 944.303 Z\" fill=\"#000000\" fill-rule=\"evenodd\" fill-opacity=\"1\" /><path clip-path=\"url(#clip930)\" d=\"M 0 0 M144.242 944.928 L166.464 944.928 L166.464 946.918 L153.918 979.488 L149.033 979.488 L160.839 948.863 L144.242 948.863 L144.242 944.928 Z\" fill=\"#000000\" fill-rule=\"evenodd\" fill-opacity=\"1\" /><path clip-path=\"url(#clip930)\" d=\"M 0 0 M171.58 944.928 L189.936 944.928 L189.936 948.863 L175.862 948.863 L175.862 957.335 Q176.88 956.988 177.899 956.826 Q178.917 956.64 179.936 956.64 Q185.723 956.64 189.103 959.812 Q192.482 962.983 192.482 968.4 Q192.482 973.978 189.01 977.08 Q185.538 980.159 179.218 980.159 Q177.042 980.159 174.774 979.788 Q172.529 979.418 170.121 978.677 L170.121 973.978 Q172.205 975.113 174.427 975.668 Q176.649 976.224 179.126 976.224 Q183.13 976.224 185.468 974.117 Q187.806 972.011 187.806 968.4 Q187.806 964.789 185.468 962.682 Q183.13 960.576 179.126 960.576 Q177.251 960.576 175.376 960.992 Q173.524 961.409 171.58 962.289 L171.58 944.928 Z\" fill=\"#000000\" fill-rule=\"evenodd\" fill-opacity=\"1\" /><path clip-path=\"url(#clip930)\" d=\"M 0 0 M62.9921 673.193 L75.4689 673.193 L75.4689 676.989 L62.9921 676.989 L62.9921 673.193 Z\" fill=\"#000000\" fill-rule=\"evenodd\" fill-opacity=\"1\" /><path clip-path=\"url(#clip930)\" d=\"M 0 0 M90.5383 656.596 Q86.9272 656.596 85.0985 660.161 Q83.2929 663.702 83.2929 670.832 Q83.2929 677.938 85.0985 681.503 Q86.9272 685.045 90.5383 685.045 Q94.1725 685.045 95.9781 681.503 Q97.8068 677.938 97.8068 670.832 Q97.8068 663.702 95.9781 660.161 Q94.1725 656.596 90.5383 656.596 M90.5383 652.892 Q96.3484 652.892 99.404 657.499 Q102.483 662.082 102.483 670.832 Q102.483 679.559 99.404 684.165 Q96.3484 688.748 90.5383 688.748 Q84.7281 688.748 81.6494 684.165 Q78.5939 679.559 78.5939 670.832 Q78.5939 662.082 81.6494 657.499 Q84.7281 652.892 90.5383 652.892 Z\" fill=\"#000000\" fill-rule=\"evenodd\" fill-opacity=\"1\" /><path clip-path=\"url(#clip930)\" d=\"M 0 0 M107.552 682.198 L112.436 682.198 L112.436 688.077 L107.552 688.077 L107.552 682.198 Z\" fill=\"#000000\" fill-rule=\"evenodd\" fill-opacity=\"1\" /><path clip-path=\"url(#clip930)\" d=\"M 0 0 M127.506 656.596 Q123.895 656.596 122.066 660.161 Q120.26 663.702 120.26 670.832 Q120.26 677.938 122.066 681.503 Q123.895 685.045 127.506 685.045 Q131.14 685.045 132.945 681.503 Q134.774 677.938 134.774 670.832 Q134.774 663.702 132.945 660.161 Q131.14 656.596 127.506 656.596 M127.506 652.892 Q133.316 652.892 136.371 657.499 Q139.45 662.082 139.45 670.832 Q139.45 679.559 136.371 684.165 Q133.316 688.748 127.506 688.748 Q121.696 688.748 118.617 684.165 Q115.561 679.559 115.561 670.832 Q115.561 662.082 118.617 657.499 Q121.696 652.892 127.506 652.892 Z\" fill=\"#000000\" fill-rule=\"evenodd\" fill-opacity=\"1\" /><path clip-path=\"url(#clip930)\" d=\"M 0 0 M144.566 653.517 L162.922 653.517 L162.922 657.452 L148.848 657.452 L148.848 665.924 Q149.867 665.577 150.885 665.415 Q151.904 665.23 152.922 665.23 Q158.709 665.23 162.089 668.401 Q165.468 671.573 165.468 676.989 Q165.468 682.568 161.996 685.67 Q158.524 688.748 152.205 688.748 Q150.029 688.748 147.76 688.378 Q145.515 688.008 143.107 687.267 L143.107 682.568 Q145.191 683.702 147.413 684.258 Q149.635 684.813 152.112 684.813 Q156.117 684.813 158.455 682.707 Q160.793 680.6 160.793 676.989 Q160.793 673.378 158.455 671.272 Q156.117 669.165 152.112 669.165 Q150.237 669.165 148.362 669.582 Q146.51 669.999 144.566 670.878 L144.566 653.517 Z\" fill=\"#000000\" fill-rule=\"evenodd\" fill-opacity=\"1\" /><path clip-path=\"url(#clip930)\" d=\"M 0 0 M180.538 656.596 Q176.927 656.596 175.098 660.161 Q173.292 663.702 173.292 670.832 Q173.292 677.938 175.098 681.503 Q176.927 685.045 180.538 685.045 Q184.172 685.045 185.978 681.503 Q187.806 677.938 187.806 670.832 Q187.806 663.702 185.978 660.161 Q184.172 656.596 180.538 656.596 M180.538 652.892 Q186.348 652.892 189.403 657.499 Q192.482 662.082 192.482 670.832 Q192.482 679.559 189.403 684.165 Q186.348 688.748 180.538 688.748 Q174.728 688.748 171.649 684.165 Q168.593 679.559 168.593 670.832 Q168.593 662.082 171.649 657.499 Q174.728 652.892 180.538 652.892 Z\" fill=\"#000000\" fill-rule=\"evenodd\" fill-opacity=\"1\" /><path clip-path=\"url(#clip930)\" d=\"M 0 0 M64.5893 381.783 L77.0661 381.783 L77.0661 385.579 L64.5893 385.579 L64.5893 381.783 Z\" fill=\"#000000\" fill-rule=\"evenodd\" fill-opacity=\"1\" /><path clip-path=\"url(#clip930)\" d=\"M 0 0 M92.1355 365.185 Q88.5244 365.185 86.6957 368.75 Q84.8902 372.292 84.8902 379.421 Q84.8902 386.528 86.6957 390.093 Q88.5244 393.634 92.1355 393.634 Q95.7697 393.634 97.5753 390.093 Q99.404 386.528 99.404 379.421 Q99.404 372.292 97.5753 368.75 Q95.7697 365.185 92.1355 365.185 M92.1355 361.482 Q97.9456 361.482 101.001 366.088 Q104.08 370.671 104.08 379.421 Q104.08 388.148 101.001 392.755 Q97.9456 397.338 92.1355 397.338 Q86.3253 397.338 83.2466 392.755 Q80.1911 388.148 80.1911 379.421 Q80.1911 370.671 83.2466 366.088 Q86.3253 361.482 92.1355 361.482 Z\" fill=\"#000000\" fill-rule=\"evenodd\" fill-opacity=\"1\" /><path clip-path=\"url(#clip930)\" d=\"M 0 0 M109.149 390.787 L114.034 390.787 L114.034 396.667 L109.149 396.667 L109.149 390.787 Z\" fill=\"#000000\" fill-rule=\"evenodd\" fill-opacity=\"1\" /><path clip-path=\"url(#clip930)\" d=\"M 0 0 M129.103 365.185 Q125.492 365.185 123.663 368.75 Q121.858 372.292 121.858 379.421 Q121.858 386.528 123.663 390.093 Q125.492 393.634 129.103 393.634 Q132.737 393.634 134.543 390.093 Q136.371 386.528 136.371 379.421 Q136.371 372.292 134.543 368.75 Q132.737 365.185 129.103 365.185 M129.103 361.482 Q134.913 361.482 137.969 366.088 Q141.047 370.671 141.047 379.421 Q141.047 388.148 137.969 392.755 Q134.913 397.338 129.103 397.338 Q123.293 397.338 120.214 392.755 Q117.159 388.148 117.159 379.421 Q117.159 370.671 120.214 366.088 Q123.293 361.482 129.103 361.482 Z\" fill=\"#000000\" fill-rule=\"evenodd\" fill-opacity=\"1\" /><path clip-path=\"url(#clip930)\" d=\"M 0 0 M150.144 392.732 L166.464 392.732 L166.464 396.667 L144.519 396.667 L144.519 392.732 Q147.181 389.977 151.765 385.347 Q156.371 380.695 157.552 379.352 Q159.797 376.829 160.677 375.093 Q161.58 373.333 161.58 371.644 Q161.58 368.889 159.635 367.153 Q157.714 365.417 154.612 365.417 Q152.413 365.417 149.959 366.181 Q147.529 366.945 144.751 368.496 L144.751 363.773 Q147.575 362.639 150.029 362.06 Q152.482 361.482 154.519 361.482 Q159.89 361.482 163.084 364.167 Q166.279 366.852 166.279 371.343 Q166.279 373.472 165.468 375.394 Q164.681 377.292 162.575 379.884 Q161.996 380.556 158.894 383.773 Q155.793 386.968 150.144 392.732 Z\" fill=\"#000000\" fill-rule=\"evenodd\" fill-opacity=\"1\" /><path clip-path=\"url(#clip930)\" d=\"M 0 0 M171.58 362.107 L189.936 362.107 L189.936 366.042 L175.862 366.042 L175.862 374.514 Q176.88 374.167 177.899 374.005 Q178.917 373.82 179.936 373.82 Q185.723 373.82 189.103 376.991 Q192.482 380.162 192.482 385.579 Q192.482 391.157 189.01 394.259 Q185.538 397.338 179.218 397.338 Q177.042 397.338 174.774 396.968 Q172.529 396.597 170.121 395.857 L170.121 391.157 Q172.205 392.292 174.427 392.847 Q176.649 393.403 179.126 393.403 Q183.13 393.403 185.468 391.296 Q187.806 389.19 187.806 385.579 Q187.806 381.968 185.468 379.861 Q183.13 377.755 179.126 377.755 Q177.251 377.755 175.376 378.171 Q173.524 378.588 171.58 379.468 L171.58 362.107 Z\" fill=\"#000000\" fill-rule=\"evenodd\" fill-opacity=\"1\" /><path clip-path=\"url(#clip930)\" d=\"M 0 0 M89.5429 73.775 Q85.9318 73.775 84.1031 77.3398 Q82.2976 80.8814 82.2976 88.011 Q82.2976 95.1174 84.1031 98.6822 Q85.9318 102.224 89.5429 102.224 Q93.1771 102.224 94.9827 98.6822 Q96.8114 95.1174 96.8114 88.011 Q96.8114 80.8814 94.9827 77.3398 Q93.1771 73.775 89.5429 73.775 M89.5429 70.0713 Q95.3531 70.0713 98.4086 74.6777 Q101.487 79.261 101.487 88.011 Q101.487 96.7378 98.4086 101.344 Q95.3531 105.928 89.5429 105.928 Q83.7328 105.928 80.6541 101.344 Q77.5985 96.7378 77.5985 88.011 Q77.5985 79.261 80.6541 74.6777 Q83.7328 70.0713 89.5429 70.0713 Z\" fill=\"#000000\" fill-rule=\"evenodd\" fill-opacity=\"1\" /><path clip-path=\"url(#clip930)\" d=\"M 0 0 M106.557 99.3767 L111.441 99.3767 L111.441 105.256 L106.557 105.256 L106.557 99.3767 Z\" fill=\"#000000\" fill-rule=\"evenodd\" fill-opacity=\"1\" /><path clip-path=\"url(#clip930)\" d=\"M 0 0 M126.51 73.775 Q122.899 73.775 121.071 77.3398 Q119.265 80.8814 119.265 88.011 Q119.265 95.1174 121.071 98.6822 Q122.899 102.224 126.51 102.224 Q130.145 102.224 131.95 98.6822 Q133.779 95.1174 133.779 88.011 Q133.779 80.8814 131.95 77.3398 Q130.145 73.775 126.51 73.775 M126.51 70.0713 Q132.32 70.0713 135.376 74.6777 Q138.455 79.261 138.455 88.011 Q138.455 96.7378 135.376 101.344 Q132.32 105.928 126.51 105.928 Q120.7 105.928 117.621 101.344 Q114.566 96.7378 114.566 88.011 Q114.566 79.261 117.621 74.6777 Q120.7 70.0713 126.51 70.0713 Z\" fill=\"#000000\" fill-rule=\"evenodd\" fill-opacity=\"1\" /><path clip-path=\"url(#clip930)\" d=\"M 0 0 M153.524 73.775 Q149.913 73.775 148.084 77.3398 Q146.279 80.8814 146.279 88.011 Q146.279 95.1174 148.084 98.6822 Q149.913 102.224 153.524 102.224 Q157.158 102.224 158.964 98.6822 Q160.793 95.1174 160.793 88.011 Q160.793 80.8814 158.964 77.3398 Q157.158 73.775 153.524 73.775 M153.524 70.0713 Q159.334 70.0713 162.39 74.6777 Q165.468 79.261 165.468 88.011 Q165.468 96.7378 162.39 101.344 Q159.334 105.928 153.524 105.928 Q147.714 105.928 144.635 101.344 Q141.58 96.7378 141.58 88.011 Q141.58 79.261 144.635 74.6777 Q147.714 70.0713 153.524 70.0713 Z\" fill=\"#000000\" fill-rule=\"evenodd\" fill-opacity=\"1\" /><path clip-path=\"url(#clip930)\" d=\"M 0 0 M180.538 73.775 Q176.927 73.775 175.098 77.3398 Q173.292 80.8814 173.292 88.011 Q173.292 95.1174 175.098 98.6822 Q176.927 102.224 180.538 102.224 Q184.172 102.224 185.978 98.6822 Q187.806 95.1174 187.806 88.011 Q187.806 80.8814 185.978 77.3398 Q184.172 73.775 180.538 73.775 M180.538 70.0713 Q186.348 70.0713 189.403 74.6777 Q192.482 79.261 192.482 88.011 Q192.482 96.7378 189.403 101.344 Q186.348 105.928 180.538 105.928 Q174.728 105.928 171.649 101.344 Q168.593 96.7378 168.593 88.011 Q168.593 79.261 171.649 74.6777 Q174.728 70.0713 180.538 70.0713 Z\" fill=\"#000000\" fill-rule=\"evenodd\" fill-opacity=\"1\" /><polyline clip-path=\"url(#clip932)\" style=\"stroke:#009af9; stroke-width:4; stroke-opacity:1; fill:none\" points=\"\n",
       "  276.943,1445.72 297.3,87.9763 317.657,87.9763 338.014,87.9763 358.371,87.9763 378.728,87.9763 399.085,87.9763 419.442,87.9763 439.8,87.9763 460.157,87.9763 \n",
       "  480.514,87.9763 500.871,87.9763 521.228,87.9763 541.585,87.9763 561.942,87.9763 582.299,87.9763 602.656,87.9763 623.013,87.9763 643.37,87.9763 663.728,87.9763 \n",
       "  684.085,87.9763 704.442,87.9763 724.799,87.9763 745.156,87.9763 765.513,87.9763 785.87,87.9763 806.227,87.9763 826.584,87.9763 846.941,87.9763 867.299,87.9763 \n",
       "  887.656,87.9763 908.013,87.9763 928.37,87.9763 948.727,87.9763 969.084,87.9763 989.441,87.9763 1009.8,87.9763 1030.16,87.9763 1050.51,87.9763 1070.87,87.9763 \n",
       "  1091.23,87.9763 1111.58,87.9763 1131.94,87.9763 1152.3,87.9763 1172.66,87.9763 1193.01,87.9763 1213.37,87.9763 1233.73,87.9763 1254.08,87.9763 1274.44,87.9763 \n",
       "  1294.8,87.9763 1315.15,87.9763 1335.51,87.9763 1355.87,87.9763 1376.23,87.9763 1396.58,87.9763 1416.94,87.9763 1437.3,87.9763 1457.65,87.9763 1478.01,87.9763 \n",
       "  1498.37,87.9763 1518.73,87.9763 1539.08,87.9763 1559.44,87.9763 1579.8,87.9763 1600.15,87.9763 1620.51,87.9763 1640.87,87.9763 1661.23,87.9763 1681.58,87.9763 \n",
       "  1701.94,87.9763 1722.3,87.9763 1742.65,87.9763 1763.01,87.9763 1783.37,87.9763 1803.73,87.9763 1824.08,87.9763 1844.44,87.9763 1864.8,87.9763 1885.15,87.9763 \n",
       "  1905.51,87.9763 1925.87,87.9763 1946.22,87.9763 1966.58,87.9763 1986.94,87.9763 2007.3,87.9763 2027.65,87.9763 2048.01,87.9763 2068.37,87.9763 2088.72,87.9763 \n",
       "  2109.08,87.9763 2129.44,87.9763 2149.8,87.9763 2170.15,87.9763 2190.51,87.9763 2210.87,87.9763 2231.22,87.9763 2251.58,87.9763 2271.94,87.9763 2292.3,87.9763 \n",
       "  \n",
       "  \"/>\n",
       "<path clip-path=\"url(#clip930)\" d=\"\n",
       "M2061.74 155.698 L2352.76 155.698 L2352.76 34.7376 L2061.74 34.7376  Z\n",
       "  \" fill=\"#ffffff\" fill-rule=\"evenodd\" fill-opacity=\"1\"/>\n",
       "<polyline clip-path=\"url(#clip930)\" style=\"stroke:#000000; stroke-width:4; stroke-opacity:1; fill:none\" points=\"\n",
       "  2061.74,155.698 2352.76,155.698 2352.76,34.7376 2061.74,34.7376 2061.74,155.698 \n",
       "  \"/>\n",
       "<polyline clip-path=\"url(#clip930)\" style=\"stroke:#009af9; stroke-width:4; stroke-opacity:1; fill:none\" points=\"\n",
       "  2085.74,95.2176 2229.74,95.2176 \n",
       "  \"/>\n",
       "<path clip-path=\"url(#clip930)\" d=\"M 0 0 M2267.58 114.905 Q2265.77 119.535 2264.06 120.947 Q2262.35 122.359 2259.48 122.359 L2256.08 122.359 L2256.08 118.794 L2258.58 118.794 Q2260.33 118.794 2261.31 117.96 Q2262.28 117.127 2263.46 114.025 L2264.22 112.081 L2253.74 86.5718 L2258.25 86.5718 L2266.35 106.849 L2274.46 86.5718 L2278.97 86.5718 L2267.58 114.905 Z\" fill=\"#000000\" fill-rule=\"evenodd\" fill-opacity=\"1\" /><path clip-path=\"url(#clip930)\" d=\"M 0 0 M2284.85 108.562 L2292.49 108.562 L2292.49 82.1968 L2284.18 83.8634 L2284.18 79.6042 L2292.44 77.9376 L2297.12 77.9376 L2297.12 108.562 L2304.76 108.562 L2304.76 112.498 L2284.85 112.498 L2284.85 108.562 Z\" fill=\"#000000\" fill-rule=\"evenodd\" fill-opacity=\"1\" /></svg>\n"
      ]
     },
     "execution_count": 36,
     "metadata": {},
     "output_type": "execute_result"
    }
   ],
   "source": [
    "record = zeros(100)\n",
    "for T in range(0.01, 10, length = 100)\n",
    "    i = 1\n",
    "    record[i] = 0\n",
    "    for confs in spins(T, 1, 1000)\n",
    "        record[i] = record[i] + Energy(confs)\n",
    "    end\n",
    "    record[i] = record[i] / 100000\n",
    "    print(record[i], \" \")\n",
    "    i = i + 1\n",
    "end\n",
    "plot(range(0.01, 10, length = 100), record)"
   ]
  },
  {
   "cell_type": "code",
   "execution_count": null,
   "metadata": {},
   "outputs": [],
   "source": []
  }
 ],
 "metadata": {
  "kernelspec": {
   "display_name": "Julia 1.3.1",
   "language": "julia",
   "name": "julia-1.3"
  },
  "language_info": {
   "file_extension": ".jl",
   "mimetype": "application/julia",
   "name": "julia",
   "version": "1.3.1"
  }
 },
 "nbformat": 4,
 "nbformat_minor": 4
}
