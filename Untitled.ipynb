{
 "cells": [
  {
   "cell_type": "code",
   "execution_count": 2,
   "metadata": {},
   "outputs": [
    {
     "name": "stderr",
     "output_type": "stream",
     "text": [
      "Exception: ProxyCommand(\"ssh zyt329@physauth.physics.ucdavis.edu nc hertz.physics.ucdavis.edu 22\") returned nonzero exit status: An operation was attempted on something that is not a socket\n",
      "Traceback (most recent call last):\n",
      "  File \"D:\\Softwares\\AAA Basic Softwares\\Anaconda3\\lib\\site-packages\\paramiko\\proxy.py\", line 107, in recv\n",
      "    r, w, x = select([self.process.stdout], [], [], select_timeout)\n",
      "OSError: [WinError 10038] An operation was attempted on something that is not a socket\n",
      "\n",
      "During handling of the above exception, another exception occurred:\n",
      "\n",
      "Traceback (most recent call last):\n",
      "  File \"D:\\Softwares\\AAA Basic Softwares\\Anaconda3\\lib\\site-packages\\paramiko\\transport.py\", line 2039, in run\n",
      "    self._check_banner()\n",
      "  File \"D:\\Softwares\\AAA Basic Softwares\\Anaconda3\\lib\\site-packages\\paramiko\\transport.py\", line 2211, in _check_banner\n",
      "    buf = self.packetizer.readline(timeout)\n",
      "  File \"D:\\Softwares\\AAA Basic Softwares\\Anaconda3\\lib\\site-packages\\paramiko\\packet.py\", line 380, in readline\n",
      "    buf += self._read_timeout(timeout)\n",
      "  File \"D:\\Softwares\\AAA Basic Softwares\\Anaconda3\\lib\\site-packages\\paramiko\\packet.py\", line 607, in _read_timeout\n",
      "    x = self.__socket.recv(128)\n",
      "  File \"D:\\Softwares\\AAA Basic Softwares\\Anaconda3\\lib\\site-packages\\paramiko\\proxy.py\", line 119, in recv\n",
      "    raise ProxyCommandFailure(\" \".join(self.cmd), e.strerror)\n",
      "paramiko.ssh_exception.ProxyCommandFailure: ProxyCommand(\"ssh zyt329@physauth.physics.ucdavis.edu nc hertz.physics.ucdavis.edu 22\") returned nonzero exit status: An operation was attempted on something that is not a socket\n",
      "\n",
      "Exception in thread Thread-6:\n",
      "Traceback (most recent call last):\n",
      "  File \"D:\\Softwares\\AAA Basic Softwares\\Anaconda3\\lib\\threading.py\", line 926, in _bootstrap_inner\n",
      "    self.run()\n",
      "  File \"D:\\Softwares\\AAA Basic Softwares\\Anaconda3\\lib\\site-packages\\paramiko\\transport.py\", line 2166, in run\n",
      "    self.sock.close()\n",
      "  File \"D:\\Softwares\\AAA Basic Softwares\\Anaconda3\\lib\\site-packages\\paramiko\\proxy.py\", line 122, in close\n",
      "    os.kill(self.process.pid, signal.SIGTERM)\n",
      "PermissionError: [WinError 5] Access is denied\n",
      "\n"
     ]
    },
    {
     "ename": "ProxyCommandFailure",
     "evalue": "ProxyCommand(\"ssh zyt329@physauth.physics.ucdavis.edu nc hertz.physics.ucdavis.edu 22\") returned nonzero exit status: An operation was attempted on something that is not a socket",
     "output_type": "error",
     "traceback": [
      "\u001b[1;31m---------------------------------------------------------------------------\u001b[0m",
      "\u001b[1;31mOSError\u001b[0m                                   Traceback (most recent call last)",
      "\u001b[1;32mD:\\Softwares\\AAA Basic Softwares\\Anaconda3\\lib\\site-packages\\paramiko\\proxy.py\u001b[0m in \u001b[0;36mrecv\u001b[1;34m(self, size)\u001b[0m\n\u001b[0;32m    106\u001b[0m \u001b[1;33m\u001b[0m\u001b[0m\n\u001b[1;32m--> 107\u001b[1;33m                 \u001b[0mr\u001b[0m\u001b[1;33m,\u001b[0m \u001b[0mw\u001b[0m\u001b[1;33m,\u001b[0m \u001b[0mx\u001b[0m \u001b[1;33m=\u001b[0m \u001b[0mselect\u001b[0m\u001b[1;33m(\u001b[0m\u001b[1;33m[\u001b[0m\u001b[0mself\u001b[0m\u001b[1;33m.\u001b[0m\u001b[0mprocess\u001b[0m\u001b[1;33m.\u001b[0m\u001b[0mstdout\u001b[0m\u001b[1;33m]\u001b[0m\u001b[1;33m,\u001b[0m \u001b[1;33m[\u001b[0m\u001b[1;33m]\u001b[0m\u001b[1;33m,\u001b[0m \u001b[1;33m[\u001b[0m\u001b[1;33m]\u001b[0m\u001b[1;33m,\u001b[0m \u001b[0mselect_timeout\u001b[0m\u001b[1;33m)\u001b[0m\u001b[1;33m\u001b[0m\u001b[1;33m\u001b[0m\u001b[0m\n\u001b[0m\u001b[0;32m    108\u001b[0m                 \u001b[1;32mif\u001b[0m \u001b[0mr\u001b[0m \u001b[1;32mand\u001b[0m \u001b[0mr\u001b[0m\u001b[1;33m[\u001b[0m\u001b[1;36m0\u001b[0m\u001b[1;33m]\u001b[0m \u001b[1;33m==\u001b[0m \u001b[0mself\u001b[0m\u001b[1;33m.\u001b[0m\u001b[0mprocess\u001b[0m\u001b[1;33m.\u001b[0m\u001b[0mstdout\u001b[0m\u001b[1;33m:\u001b[0m\u001b[1;33m\u001b[0m\u001b[1;33m\u001b[0m\u001b[0m\n",
      "\u001b[1;31mOSError\u001b[0m: [WinError 10038] An operation was attempted on something that is not a socket",
      "\nDuring handling of the above exception, another exception occurred:\n",
      "\u001b[1;31mProxyCommandFailure\u001b[0m                       Traceback (most recent call last)",
      "\u001b[1;32m<ipython-input-2-08d33cac1124>\u001b[0m in \u001b[0;36m<module>\u001b[1;34m\u001b[0m\n\u001b[0;32m     25\u001b[0m \u001b[1;32mif\u001b[0m \u001b[1;34m'proxycommand'\u001b[0m \u001b[1;32min\u001b[0m \u001b[0muser_config\u001b[0m\u001b[1;33m:\u001b[0m\u001b[1;33m\u001b[0m\u001b[1;33m\u001b[0m\u001b[0m\n\u001b[0;32m     26\u001b[0m     \u001b[0mcfg\u001b[0m\u001b[1;33m[\u001b[0m\u001b[1;34m'sock'\u001b[0m\u001b[1;33m]\u001b[0m \u001b[1;33m=\u001b[0m \u001b[0mparamiko\u001b[0m\u001b[1;33m.\u001b[0m\u001b[0mProxyCommand\u001b[0m\u001b[1;33m(\u001b[0m\u001b[0muser_config\u001b[0m\u001b[1;33m[\u001b[0m\u001b[1;34m'proxycommand'\u001b[0m\u001b[1;33m]\u001b[0m\u001b[1;33m)\u001b[0m\u001b[1;33m\u001b[0m\u001b[1;33m\u001b[0m\u001b[0m\n\u001b[1;32m---> 27\u001b[1;33m \u001b[0mclient\u001b[0m\u001b[1;33m.\u001b[0m\u001b[0mconnect\u001b[0m\u001b[1;33m(\u001b[0m\u001b[1;33m**\u001b[0m\u001b[0mcfg\u001b[0m\u001b[1;33m)\u001b[0m\u001b[1;33m\u001b[0m\u001b[1;33m\u001b[0m\u001b[0m\n\u001b[0m\u001b[0;32m     28\u001b[0m \u001b[0mstdin\u001b[0m\u001b[1;33m,\u001b[0m \u001b[0mstdout\u001b[0m\u001b[1;33m,\u001b[0m \u001b[0mstderr\u001b[0m \u001b[1;33m=\u001b[0m \u001b[0mclient\u001b[0m\u001b[1;33m.\u001b[0m\u001b[0mexec_command\u001b[0m\u001b[1;33m(\u001b[0m\u001b[1;34m'ls'\u001b[0m\u001b[1;33m)\u001b[0m\u001b[1;33m\u001b[0m\u001b[1;33m\u001b[0m\u001b[0m\n\u001b[0;32m     29\u001b[0m \u001b[1;32mfor\u001b[0m \u001b[0mline\u001b[0m \u001b[1;32min\u001b[0m \u001b[0mstdout\u001b[0m\u001b[1;33m.\u001b[0m\u001b[0mread\u001b[0m\u001b[1;33m(\u001b[0m\u001b[1;33m)\u001b[0m\u001b[1;33m.\u001b[0m\u001b[0msplitlines\u001b[0m\u001b[1;33m(\u001b[0m\u001b[1;33m)\u001b[0m\u001b[1;33m:\u001b[0m\u001b[1;33m\u001b[0m\u001b[1;33m\u001b[0m\u001b[0m\n",
      "\u001b[1;32mD:\\Softwares\\AAA Basic Softwares\\Anaconda3\\lib\\site-packages\\paramiko\\client.py\u001b[0m in \u001b[0;36mconnect\u001b[1;34m(self, hostname, port, username, password, pkey, key_filename, timeout, allow_agent, look_for_keys, compress, sock, gss_auth, gss_kex, gss_deleg_creds, gss_host, banner_timeout, auth_timeout, gss_trust_dns, passphrase, disabled_algorithms)\u001b[0m\n\u001b[0;32m    404\u001b[0m             \u001b[0msec_opts\u001b[0m\u001b[1;33m.\u001b[0m\u001b[0mkey_types\u001b[0m \u001b[1;33m=\u001b[0m \u001b[1;33m[\u001b[0m\u001b[0mkeytype\u001b[0m\u001b[1;33m]\u001b[0m \u001b[1;33m+\u001b[0m \u001b[0mother_types\u001b[0m\u001b[1;33m\u001b[0m\u001b[1;33m\u001b[0m\u001b[0m\n\u001b[0;32m    405\u001b[0m \u001b[1;33m\u001b[0m\u001b[0m\n\u001b[1;32m--> 406\u001b[1;33m         \u001b[0mt\u001b[0m\u001b[1;33m.\u001b[0m\u001b[0mstart_client\u001b[0m\u001b[1;33m(\u001b[0m\u001b[0mtimeout\u001b[0m\u001b[1;33m=\u001b[0m\u001b[0mtimeout\u001b[0m\u001b[1;33m)\u001b[0m\u001b[1;33m\u001b[0m\u001b[1;33m\u001b[0m\u001b[0m\n\u001b[0m\u001b[0;32m    407\u001b[0m \u001b[1;33m\u001b[0m\u001b[0m\n\u001b[0;32m    408\u001b[0m         \u001b[1;31m# If GSS-API Key Exchange is performed we are not required to check the\u001b[0m\u001b[1;33m\u001b[0m\u001b[1;33m\u001b[0m\u001b[1;33m\u001b[0m\u001b[0m\n",
      "\u001b[1;32mD:\\Softwares\\AAA Basic Softwares\\Anaconda3\\lib\\site-packages\\paramiko\\transport.py\u001b[0m in \u001b[0;36mstart_client\u001b[1;34m(self, event, timeout)\u001b[0m\n\u001b[0;32m    658\u001b[0m                 \u001b[0me\u001b[0m \u001b[1;33m=\u001b[0m \u001b[0mself\u001b[0m\u001b[1;33m.\u001b[0m\u001b[0mget_exception\u001b[0m\u001b[1;33m(\u001b[0m\u001b[1;33m)\u001b[0m\u001b[1;33m\u001b[0m\u001b[1;33m\u001b[0m\u001b[0m\n\u001b[0;32m    659\u001b[0m                 \u001b[1;32mif\u001b[0m \u001b[0me\u001b[0m \u001b[1;32mis\u001b[0m \u001b[1;32mnot\u001b[0m \u001b[1;32mNone\u001b[0m\u001b[1;33m:\u001b[0m\u001b[1;33m\u001b[0m\u001b[1;33m\u001b[0m\u001b[0m\n\u001b[1;32m--> 660\u001b[1;33m                     \u001b[1;32mraise\u001b[0m \u001b[0me\u001b[0m\u001b[1;33m\u001b[0m\u001b[1;33m\u001b[0m\u001b[0m\n\u001b[0m\u001b[0;32m    661\u001b[0m                 \u001b[1;32mraise\u001b[0m \u001b[0mSSHException\u001b[0m\u001b[1;33m(\u001b[0m\u001b[1;34m\"Negotiation failed.\"\u001b[0m\u001b[1;33m)\u001b[0m\u001b[1;33m\u001b[0m\u001b[1;33m\u001b[0m\u001b[0m\n\u001b[0;32m    662\u001b[0m             if event.is_set() or (\n",
      "\u001b[1;32mD:\\Softwares\\AAA Basic Softwares\\Anaconda3\\lib\\site-packages\\paramiko\\transport.py\u001b[0m in \u001b[0;36mrun\u001b[1;34m(self)\u001b[0m\n\u001b[0;32m   2037\u001b[0m                     \u001b[1;34m\"Local version/idstring: {}\"\u001b[0m\u001b[1;33m.\u001b[0m\u001b[0mformat\u001b[0m\u001b[1;33m(\u001b[0m\u001b[0mself\u001b[0m\u001b[1;33m.\u001b[0m\u001b[0mlocal_version\u001b[0m\u001b[1;33m)\u001b[0m\u001b[1;33m,\u001b[0m\u001b[1;33m\u001b[0m\u001b[1;33m\u001b[0m\u001b[0m\n\u001b[0;32m   2038\u001b[0m                 )  # noqa\n\u001b[1;32m-> 2039\u001b[1;33m                 \u001b[0mself\u001b[0m\u001b[1;33m.\u001b[0m\u001b[0m_check_banner\u001b[0m\u001b[1;33m(\u001b[0m\u001b[1;33m)\u001b[0m\u001b[1;33m\u001b[0m\u001b[1;33m\u001b[0m\u001b[0m\n\u001b[0m\u001b[0;32m   2040\u001b[0m                 \u001b[1;31m# The above is actually very much part of the handshake, but\u001b[0m\u001b[1;33m\u001b[0m\u001b[1;33m\u001b[0m\u001b[1;33m\u001b[0m\u001b[0m\n\u001b[0;32m   2041\u001b[0m                 \u001b[1;31m# sometimes the banner can be read but the machine is not\u001b[0m\u001b[1;33m\u001b[0m\u001b[1;33m\u001b[0m\u001b[1;33m\u001b[0m\u001b[0m\n",
      "\u001b[1;32mD:\\Softwares\\AAA Basic Softwares\\Anaconda3\\lib\\site-packages\\paramiko\\transport.py\u001b[0m in \u001b[0;36m_check_banner\u001b[1;34m(self)\u001b[0m\n\u001b[0;32m   2209\u001b[0m                 \u001b[0mtimeout\u001b[0m \u001b[1;33m=\u001b[0m \u001b[1;36m2\u001b[0m\u001b[1;33m\u001b[0m\u001b[1;33m\u001b[0m\u001b[0m\n\u001b[0;32m   2210\u001b[0m             \u001b[1;32mtry\u001b[0m\u001b[1;33m:\u001b[0m\u001b[1;33m\u001b[0m\u001b[1;33m\u001b[0m\u001b[0m\n\u001b[1;32m-> 2211\u001b[1;33m                 \u001b[0mbuf\u001b[0m \u001b[1;33m=\u001b[0m \u001b[0mself\u001b[0m\u001b[1;33m.\u001b[0m\u001b[0mpacketizer\u001b[0m\u001b[1;33m.\u001b[0m\u001b[0mreadline\u001b[0m\u001b[1;33m(\u001b[0m\u001b[0mtimeout\u001b[0m\u001b[1;33m)\u001b[0m\u001b[1;33m\u001b[0m\u001b[1;33m\u001b[0m\u001b[0m\n\u001b[0m\u001b[0;32m   2212\u001b[0m             \u001b[1;32mexcept\u001b[0m \u001b[0mProxyCommandFailure\u001b[0m\u001b[1;33m:\u001b[0m\u001b[1;33m\u001b[0m\u001b[1;33m\u001b[0m\u001b[0m\n\u001b[0;32m   2213\u001b[0m                 \u001b[1;32mraise\u001b[0m\u001b[1;33m\u001b[0m\u001b[1;33m\u001b[0m\u001b[0m\n",
      "\u001b[1;32mD:\\Softwares\\AAA Basic Softwares\\Anaconda3\\lib\\site-packages\\paramiko\\packet.py\u001b[0m in \u001b[0;36mreadline\u001b[1;34m(self, timeout)\u001b[0m\n\u001b[0;32m    378\u001b[0m         \u001b[0mbuf\u001b[0m \u001b[1;33m=\u001b[0m \u001b[0mself\u001b[0m\u001b[1;33m.\u001b[0m\u001b[0m__remainder\u001b[0m\u001b[1;33m\u001b[0m\u001b[1;33m\u001b[0m\u001b[0m\n\u001b[0;32m    379\u001b[0m         \u001b[1;32mwhile\u001b[0m \u001b[0mlinefeed_byte\u001b[0m \u001b[1;32mnot\u001b[0m \u001b[1;32min\u001b[0m \u001b[0mbuf\u001b[0m\u001b[1;33m:\u001b[0m\u001b[1;33m\u001b[0m\u001b[1;33m\u001b[0m\u001b[0m\n\u001b[1;32m--> 380\u001b[1;33m             \u001b[0mbuf\u001b[0m \u001b[1;33m+=\u001b[0m \u001b[0mself\u001b[0m\u001b[1;33m.\u001b[0m\u001b[0m_read_timeout\u001b[0m\u001b[1;33m(\u001b[0m\u001b[0mtimeout\u001b[0m\u001b[1;33m)\u001b[0m\u001b[1;33m\u001b[0m\u001b[1;33m\u001b[0m\u001b[0m\n\u001b[0m\u001b[0;32m    381\u001b[0m         \u001b[0mn\u001b[0m \u001b[1;33m=\u001b[0m \u001b[0mbuf\u001b[0m\u001b[1;33m.\u001b[0m\u001b[0mindex\u001b[0m\u001b[1;33m(\u001b[0m\u001b[0mlinefeed_byte\u001b[0m\u001b[1;33m)\u001b[0m\u001b[1;33m\u001b[0m\u001b[1;33m\u001b[0m\u001b[0m\n\u001b[0;32m    382\u001b[0m         \u001b[0mself\u001b[0m\u001b[1;33m.\u001b[0m\u001b[0m__remainder\u001b[0m \u001b[1;33m=\u001b[0m \u001b[0mbuf\u001b[0m\u001b[1;33m[\u001b[0m\u001b[0mn\u001b[0m \u001b[1;33m+\u001b[0m \u001b[1;36m1\u001b[0m \u001b[1;33m:\u001b[0m\u001b[1;33m]\u001b[0m\u001b[1;33m\u001b[0m\u001b[1;33m\u001b[0m\u001b[0m\n",
      "\u001b[1;32mD:\\Softwares\\AAA Basic Softwares\\Anaconda3\\lib\\site-packages\\paramiko\\packet.py\u001b[0m in \u001b[0;36m_read_timeout\u001b[1;34m(self, timeout)\u001b[0m\n\u001b[0;32m    605\u001b[0m         \u001b[1;32mwhile\u001b[0m \u001b[1;32mTrue\u001b[0m\u001b[1;33m:\u001b[0m\u001b[1;33m\u001b[0m\u001b[1;33m\u001b[0m\u001b[0m\n\u001b[0;32m    606\u001b[0m             \u001b[1;32mtry\u001b[0m\u001b[1;33m:\u001b[0m\u001b[1;33m\u001b[0m\u001b[1;33m\u001b[0m\u001b[0m\n\u001b[1;32m--> 607\u001b[1;33m                 \u001b[0mx\u001b[0m \u001b[1;33m=\u001b[0m \u001b[0mself\u001b[0m\u001b[1;33m.\u001b[0m\u001b[0m__socket\u001b[0m\u001b[1;33m.\u001b[0m\u001b[0mrecv\u001b[0m\u001b[1;33m(\u001b[0m\u001b[1;36m128\u001b[0m\u001b[1;33m)\u001b[0m\u001b[1;33m\u001b[0m\u001b[1;33m\u001b[0m\u001b[0m\n\u001b[0m\u001b[0;32m    608\u001b[0m                 \u001b[1;32mif\u001b[0m \u001b[0mlen\u001b[0m\u001b[1;33m(\u001b[0m\u001b[0mx\u001b[0m\u001b[1;33m)\u001b[0m \u001b[1;33m==\u001b[0m \u001b[1;36m0\u001b[0m\u001b[1;33m:\u001b[0m\u001b[1;33m\u001b[0m\u001b[1;33m\u001b[0m\u001b[0m\n\u001b[0;32m    609\u001b[0m                     \u001b[1;32mraise\u001b[0m \u001b[0mEOFError\u001b[0m\u001b[1;33m(\u001b[0m\u001b[1;33m)\u001b[0m\u001b[1;33m\u001b[0m\u001b[1;33m\u001b[0m\u001b[0m\n",
      "\u001b[1;32mD:\\Softwares\\AAA Basic Softwares\\Anaconda3\\lib\\site-packages\\paramiko\\proxy.py\u001b[0m in \u001b[0;36mrecv\u001b[1;34m(self, size)\u001b[0m\n\u001b[0;32m    117\u001b[0m             \u001b[1;32mraise\u001b[0m  \u001b[1;31m# socket.timeout is a subclass of IOError\u001b[0m\u001b[1;33m\u001b[0m\u001b[1;33m\u001b[0m\u001b[0m\n\u001b[0;32m    118\u001b[0m         \u001b[1;32mexcept\u001b[0m \u001b[0mIOError\u001b[0m \u001b[1;32mas\u001b[0m \u001b[0me\u001b[0m\u001b[1;33m:\u001b[0m\u001b[1;33m\u001b[0m\u001b[1;33m\u001b[0m\u001b[0m\n\u001b[1;32m--> 119\u001b[1;33m             \u001b[1;32mraise\u001b[0m \u001b[0mProxyCommandFailure\u001b[0m\u001b[1;33m(\u001b[0m\u001b[1;34m\" \"\u001b[0m\u001b[1;33m.\u001b[0m\u001b[0mjoin\u001b[0m\u001b[1;33m(\u001b[0m\u001b[0mself\u001b[0m\u001b[1;33m.\u001b[0m\u001b[0mcmd\u001b[0m\u001b[1;33m)\u001b[0m\u001b[1;33m,\u001b[0m \u001b[0me\u001b[0m\u001b[1;33m.\u001b[0m\u001b[0mstrerror\u001b[0m\u001b[1;33m)\u001b[0m\u001b[1;33m\u001b[0m\u001b[1;33m\u001b[0m\u001b[0m\n\u001b[0m\u001b[0;32m    120\u001b[0m \u001b[1;33m\u001b[0m\u001b[0m\n\u001b[0;32m    121\u001b[0m     \u001b[1;32mdef\u001b[0m \u001b[0mclose\u001b[0m\u001b[1;33m(\u001b[0m\u001b[0mself\u001b[0m\u001b[1;33m)\u001b[0m\u001b[1;33m:\u001b[0m\u001b[1;33m\u001b[0m\u001b[1;33m\u001b[0m\u001b[0m\n",
      "\u001b[1;31mProxyCommandFailure\u001b[0m: ProxyCommand(\"ssh zyt329@physauth.physics.ucdavis.edu nc hertz.physics.ucdavis.edu 22\") returned nonzero exit status: An operation was attempted on something that is not a socket"
     ]
    }
   ],
   "source": [
    "import os\n",
    "import paramiko\n",
    "#from sshtunnel import SSHTunnelForwarder\n",
    "# ssh variables\n",
    "host = 'hertz.physics.ucdavis.edu'\n",
    "#localhost = '127.0.0.1'\n",
    "ssh_username = 'zyt329'\n",
    "#private_key = '~/.ssh/id_rsa'\n",
    "client = paramiko.SSHClient()\n",
    "client._policy = paramiko.WarningPolicy()\n",
    "client.set_missing_host_key_policy(paramiko.AutoAddPolicy())\n",
    "ssh_config = paramiko.SSHConfig()\n",
    "user_config_file = os.path.expanduser(\"C:/Users/zyt_3/.ssh/config\")\n",
    "try:\n",
    "    with open(user_config_file) as f:\n",
    "        ssh_config.parse(f)\n",
    "except FileNotFoundError:\n",
    "    print(\"{} file could not be found. Aborting.\".format(user_config_file))\n",
    "    sys.exit(1)\n",
    "cfg = {'hostname': host, 'username': ssh_username}\n",
    "user_config = ssh_config.lookup(cfg['hostname'])\n",
    "for k in ('hostname', 'username', 'port'):\n",
    "    if k in user_config:\n",
    "            cfg[k] = user_config[k]\n",
    "if 'proxycommand' in user_config:\n",
    "    cfg['sock'] = paramiko.ProxyCommand(user_config['proxycommand'])\n",
    "client.connect(**cfg) \n",
    "stdin, stdout, stderr = client.exec_command('ls')\n",
    "for line in stdout.read().splitlines():\n",
    "    print(line)\n",
    "client.close()"
   ]
  },
  {
   "cell_type": "code",
   "execution_count": null,
   "metadata": {},
   "outputs": [],
   "source": []
  }
 ],
 "metadata": {
  "kernelspec": {
   "display_name": "Python 3",
   "language": "python",
   "name": "python3"
  },
  "language_info": {
   "codemirror_mode": {
    "name": "ipython",
    "version": 3
   },
   "file_extension": ".py",
   "mimetype": "text/x-python",
   "name": "python",
   "nbconvert_exporter": "python",
   "pygments_lexer": "ipython3",
   "version": "3.7.6"
  }
 },
 "nbformat": 4,
 "nbformat_minor": 4
}
