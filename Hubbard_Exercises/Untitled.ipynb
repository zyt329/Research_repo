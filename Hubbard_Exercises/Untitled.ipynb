{
 "cells": [
  {
   "cell_type": "code",
   "execution_count": 1,
   "metadata": {},
   "outputs": [],
   "source": [
    "using Plots\n",
    "using LinearAlgebra"
   ]
  },
  {
   "cell_type": "code",
   "execution_count": 60,
   "metadata": {},
   "outputs": [],
   "source": [
    "struct stat\n",
    "    state::Array{Float64,1}\n",
    "    function stat(zero, up, down, double)\n",
    "        norm = sqrt(zero * zero'+ up * up'+ down * down'+ double * double')\n",
    "        new([zero,up,down,double] / norm)\n",
    "    end\n",
    "    function stat(state::Array)\n",
    "       new(state) \n",
    "    end\n",
    "end"
   ]
  },
  {
   "cell_type": "code",
   "execution_count": 62,
   "metadata": {},
   "outputs": [],
   "source": [
    "struct sysstat\n",
    "    state::Array{stat,2}\n",
    "    function sysstat(state::Array{Int64,2})\n",
    "        for n in state \n",
    "            @assert(1<=n<=4,\"There are only 4 states per site. You have to choose your state within that range\")\n",
    "        end\n",
    "        s = []\n",
    "        push!(s, stat(1,0,0,0))\n",
    "        push!(s, stat(0,1,0,0))\n",
    "        push!(s, stat(0,0,1,0))\n",
    "        push!(s, stat(0,0,0,1))\n",
    "        println(s)\n",
    "        actual_state = Array{stat,2}(undef, size(state)[1], size(state)[2])\n",
    "        for i in 1:size(state)[1]\n",
    "            for j in 1:size(state)[2]\n",
    "               actual_state[i, j] = s[state[i, j]]\n",
    "            end\n",
    "        end\n",
    "        new(actual_state)\n",
    "    end\n",
    "    function sysstat(state::Array{stat,2})\n",
    "        new(state)\n",
    "    end\n",
    "end"
   ]
  },
  {
   "cell_type": "code",
   "execution_count": 49,
   "metadata": {},
   "outputs": [
    {
     "data": {
      "text/plain": [
       "* (generic function with 407 methods)"
      ]
     },
     "execution_count": 49,
     "metadata": {},
     "output_type": "execute_result"
    }
   ],
   "source": [
    "import Base.*\n",
    "\n",
    "function *(a::Array,b::stat)\n",
    "    @assert(size(a)[1] == length(b.state), \"The operator's dimension should match the state (4 by 4)\")\n",
    "    @assert(size(a)[2] == length(b.state), \"The operator's dimension should match the state (4 by 4)\")\n",
    "    c = a * b.state\n",
    "    return stat(c)\n",
    "end\n",
    "\n",
    "function *(a::stat,b::stat)\n",
    "    c = a.state' * b.state\n",
    "    return c\n",
    "end"
   ]
  },
  {
   "cell_type": "code",
   "execution_count": 76,
   "metadata": {},
   "outputs": [
    {
     "data": {
      "text/plain": [
       "* (generic function with 414 methods)"
      ]
     },
     "execution_count": 76,
     "metadata": {},
     "output_type": "execute_result"
    }
   ],
   "source": [
    "function *(a::Array, b::sysstat)\n",
    "    @assert(size(a) == size(b.state), \"The operator's dimension should match the systemstate's.\")\n",
    "    c = Array{stat,2}(undef, size(b.state)[1], size(b.state)[2])\n",
    "    for i in 1:size(a)[1]\n",
    "        for j in 1:size(a)[2]\n",
    "            c[i, j] = a[i, j] * b.state[i, j]\n",
    "        end\n",
    "    end\n",
    "    return sysstat(c)\n",
    "end\n",
    "\n",
    "function *(a::sysstat, b::sysstat)\n",
    "    @assert(size(a.state) == size(b.state), \"The size of system doesn't match\") \n",
    "    c = 1\n",
    "    for i in 1:size(a.state)[1]\n",
    "        for j in 1:size(a.state)[2]\n",
    "            c = c * (a.state[i, j] * b.state[i, j])\n",
    "        end\n",
    "    end\n",
    "    return c\n",
    "end\n",
    "\n",
    "function *(a::Union{Float64,Int64}, b::stat)\n",
    "    c = a * b.state\n",
    "    return stat(c)\n",
    "end\n",
    "\n",
    "function *(a::Union{Float64,Int64}, b::sysstat)\n",
    "    c = Array{stat,2}(undef, size(b.state)[1], size(b.state)[2])\n",
    "    for i in 1:size(b.state)[1]\n",
    "        for j in 1:size(b.state)[2]\n",
    "            c[i, j] = a * b.state[i, j]\n",
    "        end\n",
    "    end\n",
    "    sysstat(c)\n",
    "end"
   ]
  },
  {
   "cell_type": "code",
   "execution_count": 63,
   "metadata": {},
   "outputs": [
    {
     "name": "stdout",
     "output_type": "stream",
     "text": [
      "Any[stat([1.0, 0.0, 0.0, 0.0]), stat([0.0, 1.0, 0.0, 0.0]), stat([0.0, 0.0, 1.0, 0.0]), stat([0.0, 0.0, 0.0, 1.0])]\n"
     ]
    },
    {
     "data": {
      "text/plain": [
       "sysstat(stat[stat([0.0, 1.0, 0.0, 0.0]) stat([0.0, 0.0, 0.0, 0.0]); stat([0.0, 0.0, 0.0, 1.0]) stat([0.0, 0.0, 0.0, 0.0])])"
      ]
     },
     "execution_count": 63,
     "metadata": {},
     "output_type": "execute_result"
    }
   ],
   "source": [
    "fill([0 0 0 0;1 0 0 0;0 0 0 0;0 0 1 0],(2,2)) * sysstat([1 2;3 4])"
   ]
  },
  {
   "cell_type": "code",
   "execution_count": 77,
   "metadata": {},
   "outputs": [
    {
     "name": "stdout",
     "output_type": "stream",
     "text": [
      "Any[stat([1.0, 0.0, 0.0, 0.0]), stat([0.0, 1.0, 0.0, 0.0]), stat([0.0, 0.0, 1.0, 0.0]), stat([0.0, 0.0, 0.0, 1.0])]\n"
     ]
    },
    {
     "data": {
      "text/plain": [
       "sysstat(stat[stat([10.0, 0.0, 0.0, 0.0]) stat([0.0, 10.0, 0.0, 0.0]); stat([0.0, 0.0, 10.0, 0.0]) stat([0.0, 0.0, 0.0, 10.0])])"
      ]
     },
     "execution_count": 77,
     "metadata": {},
     "output_type": "execute_result"
    }
   ],
   "source": [
    "10 *sysstat([1 2;3 4])"
   ]
  },
  {
   "cell_type": "code",
   "execution_count": 68,
   "metadata": {},
   "outputs": [
    {
     "name": "stdout",
     "output_type": "stream",
     "text": [
      "Any[stat([1.0, 0.0, 0.0, 0.0]), stat([0.0, 1.0, 0.0, 0.0]), stat([0.0, 0.0, 1.0, 0.0]), stat([0.0, 0.0, 0.0, 1.0])]\n",
      "Any[stat([1.0, 0.0, 0.0, 0.0]), stat([0.0, 1.0, 0.0, 0.0]), stat([0.0, 0.0, 1.0, 0.0]), stat([0.0, 0.0, 0.0, 1.0])]\n"
     ]
    },
    {
     "data": {
      "text/plain": [
       "1.0"
      ]
     },
     "execution_count": 68,
     "metadata": {},
     "output_type": "execute_result"
    }
   ],
   "source": [
    "sysstat([1 2;3 4]) * sysstat([1 2;3 4])"
   ]
  },
  {
   "cell_type": "code",
   "execution_count": 72,
   "metadata": {},
   "outputs": [
    {
     "data": {
      "text/plain": [
       "+ (generic function with 190 methods)"
      ]
     },
     "execution_count": 72,
     "metadata": {},
     "output_type": "execute_result"
    }
   ],
   "source": [
    "import Base.+\n",
    "\n",
    "function +(a::stat,b::stat)\n",
    "    c = a.state + b.state\n",
    "    return stat(c)\n",
    "end\n",
    "\n",
    "function +(a::sysstat, b::sysstat)\n",
    "    c = Array{stat,2}(undef, size(b.state)[1], size(b.state)[2])\n",
    "    for i in 1:size(a.state)[1]\n",
    "        for j in 1:size(a.state)[2]\n",
    "            c[i ,j] = a.state[i, j] + b.state[i, j]\n",
    "        end\n",
    "    end\n",
    "    return sysstat(c)\n",
    "end"
   ]
  },
  {
   "cell_type": "code",
   "execution_count": 73,
   "metadata": {},
   "outputs": [
    {
     "name": "stdout",
     "output_type": "stream",
     "text": [
      "Any[stat([1.0, 0.0, 0.0, 0.0]), stat([0.0, 1.0, 0.0, 0.0]), stat([0.0, 0.0, 1.0, 0.0]), stat([0.0, 0.0, 0.0, 1.0])]\n",
      "Any[stat([1.0, 0.0, 0.0, 0.0]), stat([0.0, 1.0, 0.0, 0.0]), stat([0.0, 0.0, 1.0, 0.0]), stat([0.0, 0.0, 0.0, 1.0])]\n"
     ]
    },
    {
     "data": {
      "text/plain": [
       "sysstat(stat[stat([2.0, 0.0, 0.0, 0.0]) stat([0.0, 2.0, 0.0, 0.0]); stat([0.0, 0.0, 2.0, 0.0]) stat([0.0, 0.0, 0.0, 2.0])])"
      ]
     },
     "execution_count": 73,
     "metadata": {},
     "output_type": "execute_result"
    }
   ],
   "source": [
    "sysstat([1 2;3 4]) + sysstat([1 2;3 4])"
   ]
  },
  {
   "cell_type": "code",
   "execution_count": 71,
   "metadata": {},
   "outputs": [
    {
     "data": {
      "text/plain": [
       "4×4 Array{Float64,2}:\n",
       " 1.0  0.0  0.0  0.0\n",
       " 0.0  1.0  0.0  0.0\n",
       " 0.0  0.0  1.0  0.0\n",
       " 0.0  0.0  0.0  1.0"
      ]
     },
     "execution_count": 71,
     "metadata": {},
     "output_type": "execute_result"
    }
   ],
   "source": [
    "I = Matrix{Float64}(I,4,4)"
   ]
  },
  {
   "cell_type": "code",
   "execution_count": 14,
   "metadata": {},
   "outputs": [
    {
     "data": {
      "text/plain": [
       "(3, 2)"
      ]
     },
     "execution_count": 14,
     "metadata": {},
     "output_type": "execute_result"
    }
   ],
   "source": [
    "size(A)"
   ]
  },
  {
   "cell_type": "code",
   "execution_count": 7,
   "metadata": {},
   "outputs": [
    {
     "data": {
      "text/plain": [
       "4×4 Array{Int64,2}:\n",
       " 0  0  0  0\n",
       " 0  1  0  0\n",
       " 0  0  0  0\n",
       " 0  0  0  1"
      ]
     },
     "execution_count": 7,
     "metadata": {},
     "output_type": "execute_result"
    }
   ],
   "source": [
    "[0 0 0 0;1 0 0 0;0 0 0 0;0 0 1 0]* "
   ]
  },
  {
   "cell_type": "code",
   "execution_count": 8,
   "metadata": {},
   "outputs": [
    {
     "data": {
      "text/plain": [
       "4×4 Array{Int64,2}:\n",
       " 1  0  0  0\n",
       " 0  0  0  0\n",
       " 0  0  1  0\n",
       " 0  0  0  0"
      ]
     },
     "execution_count": 8,
     "metadata": {},
     "output_type": "execute_result"
    }
   ],
   "source": [
    "[0 1 0 0;0 0 0 0;0 0 0 1;0 0 0 0]*[0 0 0 0;1 0 0 0;0 0 0 0;0 0 1 0]"
   ]
  },
  {
   "cell_type": "code",
   "execution_count": 12,
   "metadata": {},
   "outputs": [
    {
     "data": {
      "text/plain": [
       "Complex{Float64}"
      ]
     },
     "execution_count": 12,
     "metadata": {},
     "output_type": "execute_result"
    }
   ],
   "source": [
    "typeof(1.1+2.2im)\n"
   ]
  },
  {
   "cell_type": "code",
   "execution_count": 13,
   "metadata": {},
   "outputs": [
    {
     "ename": "MethodError",
     "evalue": "MethodError: no method matching haha(::Float64)\nClosest candidates are:\n  haha(!Matched::Complex{Float64}) at In[13]:2",
     "output_type": "error",
     "traceback": [
      "MethodError: no method matching haha(::Float64)\nClosest candidates are:\n  haha(!Matched::Complex{Float64}) at In[13]:2",
      "",
      "Stacktrace:",
      " [1] top-level scope at In[13]:4"
     ]
    }
   ],
   "source": [
    "function haha(x::Complex{Float64})\n",
    "  println(x)  \n",
    "end\n",
    "haha(2.0)"
   ]
  },
  {
   "cell_type": "code",
   "execution_count": 79,
   "metadata": {},
   "outputs": [
    {
     "ename": "MethodError",
     "evalue": "MethodError: no method matching diagm(::Array{Int64,2}, ::Array{Int64,2})",
     "output_type": "error",
     "traceback": [
      "MethodError: no method matching diagm(::Array{Int64,2}, ::Array{Int64,2})",
      "",
      "Stacktrace:",
      " [1] top-level scope at In[79]:1"
     ]
    }
   ],
   "source": [
    "diagm([1 2;3 4], [1 2;3 4])"
   ]
  },
  {
   "cell_type": "code",
   "execution_count": null,
   "metadata": {},
   "outputs": [],
   "source": []
  }
 ],
 "metadata": {
  "kernelspec": {
   "display_name": "Julia 1.3.1",
   "language": "julia",
   "name": "julia-1.3"
  },
  "language_info": {
   "file_extension": ".jl",
   "mimetype": "application/julia",
   "name": "julia",
   "version": "1.3.1"
  }
 },
 "nbformat": 4,
 "nbformat_minor": 4
}
