{
 "cells": [
  {
   "cell_type": "code",
   "execution_count": 1,
   "metadata": {},
   "outputs": [],
   "source": [
    "using LinearAlgebra\n",
    "using Plots"
   ]
  },
  {
   "cell_type": "code",
   "execution_count": 2,
   "metadata": {},
   "outputs": [
    {
     "data": {
      "text/plain": [
       "E_down"
      ]
     },
     "execution_count": 2,
     "metadata": {},
     "output_type": "execute_result"
    }
   ],
   "source": [
    "\"\"\"Dispersion relation for up spins\"\"\"\n",
    "E_up(n_up, k, U; t = 1) = -2 * t * cos(k) + U * n_up\n",
    "\"\"\"Dispersion relation for down spins\"\"\"\n",
    "E_down(n_down, k, U;t = 1) = -2 * t * cos(k) + U * n_down"
   ]
  },
  {
   "cell_type": "code",
   "execution_count": 34,
   "metadata": {},
   "outputs": [
    {
     "data": {
      "text/plain": [
       "meanfield"
      ]
     },
     "execution_count": 34,
     "metadata": {},
     "output_type": "execute_result"
    }
   ],
   "source": [
    "\"\"\"finding the minimum energy amoung different magnetizations.\"\"\"\n",
    "function meanfield(ρ, U; N::Int = 256,t = 1,E_up = E_up, E_down = E_down)\n",
    "    @assert(ρ <= 1,\"Density should be smaller than 1.\")\n",
    "    N_tot = Int(ceil(ρ * N))\n",
    "    #Generate k points\n",
    "    kpoints = range(-π,π,length = N)\n",
    "    E_tots = zeros(N_tot)\n",
    "    \n",
    "    for N_up in 1:N_tot\n",
    "        N_down = N_tot - N_up\n",
    "        for k in kpoints\n",
    "           if k >= ((-N_up/2+1)*2π/N) && k <= (N_up/2*2π/N)\n",
    "                E_tots[N_up] += E_up(N_up / N, k, U; t = t) \n",
    "           end\n",
    "        end\n",
    "        for k in kpoints\n",
    "           if k >= ((-N_down/2+1)*2π/N) && k <= (N_down/2*2π/N)\n",
    "                E_tots[N_up] += E_down(N_down / N, k, U; t = t) \n",
    "           end\n",
    "        end\n",
    "        E_tots[N_up] = E_tots[N_up] / N - U * N_up/N * N_down/N\n",
    "    end\n",
    "    \n",
    "    N_up_best = argmin(E_tots)\n",
    "    return (E_tots[N_up_best], N_up_best, (2*N_up_best-N_tot)/N_tot, plot(1:N_tot, E_tots))\n",
    "end"
   ]
  },
  {
   "cell_type": "code",
   "execution_count": 40,
   "metadata": {},
   "outputs": [
    {
     "data": {
      "text/plain": [
       "(-0.6220236811637972, 64, 0.0, Plot{Plots.GRBackend() n=1})"
      ]
     },
     "execution_count": 40,
     "metadata": {},
     "output_type": "execute_result"
    }
   ],
   "source": [
    "meanfield(1/2, 4.4)"
   ]
  },
  {
   "cell_type": "code",
   "execution_count": 9,
   "metadata": {},
   "outputs": [
    {
     "data": {
      "text/plain": [
       "1"
      ]
     },
     "execution_count": 9,
     "metadata": {},
     "output_type": "execute_result"
    }
   ],
   "source": [
    "A = [12 1]\n",
    "A[argmin(A)]"
   ]
  },
  {
   "cell_type": "code",
   "execution_count": null,
   "metadata": {},
   "outputs": [],
   "source": []
  }
 ],
 "metadata": {
  "kernelspec": {
   "display_name": "Julia 1.3.1",
   "language": "julia",
   "name": "julia-1.3"
  },
  "language_info": {
   "file_extension": ".jl",
   "mimetype": "application/julia",
   "name": "julia",
   "version": "1.3.1"
  }
 },
 "nbformat": 4,
 "nbformat_minor": 4
}
